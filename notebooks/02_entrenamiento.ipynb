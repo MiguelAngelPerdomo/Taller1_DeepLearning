{
 "cells": [
  {
   "cell_type": "code",
   "execution_count": null,
   "metadata": {},
   "outputs": [],
   "source": [
    "import tensorflow as tf\n",
    "from tensorflow.keras.models import Sequential\n",
    "from tensorflow.keras.layers import Dense, Dropout\n",
    "from tensorflow.keras.optimizers import Adam\n",
    "from sklearn.model_selection import train_test_split\n",
    "import pandas as pd\n",
    "from sklearn.preprocessing import MinMaxScaler\n",
    "import numpy as np"
   ]
  },
  {
   "cell_type": "markdown",
   "metadata": {},
   "source": [
    "Configurar semilla para reproducibilidad"
   ]
  },
  {
   "cell_type": "code",
   "execution_count": 68,
   "metadata": {},
   "outputs": [],
   "source": [
    "SEED = 42\n",
    "np.random.seed(SEED)\n",
    "tf.random.set_seed(SEED)"
   ]
  },
  {
   "cell_type": "markdown",
   "metadata": {},
   "source": [
    "Cargar el dataset"
   ]
  },
  {
   "cell_type": "code",
   "execution_count": 69,
   "metadata": {},
   "outputs": [],
   "source": [
    "file_path = \"../House_Rent_Dataset.csv\"\n",
    "df = pd.read_csv(file_path)"
   ]
  },
  {
   "cell_type": "markdown",
   "metadata": {},
   "source": [
    "Preprocesamiento de datos"
   ]
  },
  {
   "cell_type": "code",
   "execution_count": 70,
   "metadata": {},
   "outputs": [],
   "source": [
    "# Eliminar columnas irrelevantes\n",
    "df.drop(columns=[\"Posted On\", \"Point of Contact\"], inplace=True)\n",
    "\n",
    "# Separar la información de \"Floor\"\n",
    "df[['Current Floor', 'Total Floors']] = df['Floor'].str.extract(r'(\\d+|Ground)\\D+(\\d+)?')\n",
    "df['Current Floor'] = df['Current Floor'].replace('Ground', 0).astype(float)\n",
    "df['Total Floors'] = df['Total Floors'].astype(float)\n",
    "df.drop(columns=['Floor'], inplace=True)\n",
    "\n",
    "# Aplicar One-Hot Encoding a columnas con pocas categorías\n",
    "one_hot_cols = ['Area Type', 'City', 'Furnishing Status', 'Tenant Preferred']\n",
    "df = pd.get_dummies(df, columns=one_hot_cols, drop_first=True)\n",
    "\n",
    "# Codificación por frecuencia para 'Area Locality'\n",
    "locality_counts = df['Area Locality'].value_counts()\n",
    "df['Area Locality Encoded'] = df['Area Locality'].map(locality_counts)\n",
    "df.drop(columns=['Area Locality'], inplace=True)  # Eliminamos la original\n",
    "\n",
    "# Manejo de valores nulos\n",
    "df.dropna(inplace=True)\n",
    "\n",
    "# Escalado de variables numéricas\n",
    "scaler = MinMaxScaler()\n",
    "numerical_columns = ['BHK', 'Size', 'Bathroom', 'Area Locality Encoded']\n",
    "df[numerical_columns] = scaler.fit_transform(df[numerical_columns])\n",
    "\n",
    "# Escalar la variable objetivo \"Rent\"\n",
    "rent_scaler = MinMaxScaler()\n",
    "df['Rent_Scaled'] = rent_scaler.fit_transform(df[['Rent']])\n",
    "\n",
    "# Eliminar la columna original de Rent\n",
    "df.drop(columns=['Rent'], inplace=True)\n",
    "\n",
    "# Filtrar outliers en Rent usando el método del rango intercuartil (IQR)\n",
    "Q1 = df['Rent_Scaled'].quantile(0.25)\n",
    "Q3 = df['Rent_Scaled'].quantile(0.75)\n",
    "IQR = Q3 - Q1\n",
    "lower_bound = Q1 - 1.5 * IQR\n",
    "upper_bound = Q3 + 1.5 * IQR\n",
    "df = df[(df['Rent_Scaled'] >= lower_bound) & (df['Rent_Scaled'] <= upper_bound)]\n",
    "\n",
    "# Eliminar columnas con baja correlación\n",
    "df.drop(columns=['Current Floor', 'Total Floors'], inplace=True)\n",
    "\n",
    "# Guardar el dataset preprocesado\n",
    "df.to_csv(\"House_Rent_Dataset_Cleaned.csv\", index=False)"
   ]
  },
  {
   "cell_type": "code",
   "execution_count": 71,
   "metadata": {},
   "outputs": [
    {
     "name": "stdout",
     "output_type": "stream",
     "text": [
      "<class 'pandas.core.frame.DataFrame'>\n",
      "Index: 4192 entries, 0 to 4745\n",
      "Data columns (total 16 columns):\n",
      " #   Column                             Non-Null Count  Dtype  \n",
      "---  ------                             --------------  -----  \n",
      " 0   BHK                                4192 non-null   float64\n",
      " 1   Size                               4192 non-null   float64\n",
      " 2   Bathroom                           4192 non-null   float64\n",
      " 3   Area Type_Carpet Area              4192 non-null   bool   \n",
      " 4   Area Type_Super Area               4192 non-null   bool   \n",
      " 5   City_Chennai                       4192 non-null   bool   \n",
      " 6   City_Delhi                         4192 non-null   bool   \n",
      " 7   City_Hyderabad                     4192 non-null   bool   \n",
      " 8   City_Kolkata                       4192 non-null   bool   \n",
      " 9   City_Mumbai                        4192 non-null   bool   \n",
      " 10  Furnishing Status_Semi-Furnished   4192 non-null   bool   \n",
      " 11  Furnishing Status_Unfurnished      4192 non-null   bool   \n",
      " 12  Tenant Preferred_Bachelors/Family  4192 non-null   bool   \n",
      " 13  Tenant Preferred_Family            4192 non-null   bool   \n",
      " 14  Area Locality Encoded              4192 non-null   float64\n",
      " 15  Rent_Scaled                        4192 non-null   float64\n",
      "dtypes: bool(11), float64(5)\n",
      "memory usage: 241.5 KB\n"
     ]
    }
   ],
   "source": [
    "df.info()"
   ]
  },
  {
   "cell_type": "markdown",
   "metadata": {},
   "source": [
    "# Tensorflow"
   ]
  },
  {
   "cell_type": "markdown",
   "metadata": {},
   "source": [
    "División en entrenamiento y prueba"
   ]
  },
  {
   "cell_type": "code",
   "execution_count": 72,
   "metadata": {},
   "outputs": [],
   "source": [
    "X = df.drop(columns=['Rent_Scaled'])\n",
    "y = df['Rent_Scaled']\n",
    "\n",
    "X_train, X_test, y_train, y_test = train_test_split(X, y, test_size=0.2, random_state=SEED)"
   ]
  },
  {
   "cell_type": "code",
   "execution_count": 73,
   "metadata": {},
   "outputs": [],
   "source": [
    "X_train = X_train.values.astype(np.float32) \n",
    "X_test = X_test.values.astype(np.float32)"
   ]
  },
  {
   "cell_type": "markdown",
   "metadata": {},
   "source": [
    "Construcción de la Red Neuronal con Ajuste de Hiperparámetros"
   ]
  },
  {
   "cell_type": "code",
   "execution_count": 74,
   "metadata": {},
   "outputs": [],
   "source": [
    "model = Sequential([\n",
    "    Dense(256, activation='relu', input_shape=(X_train.shape[1],)),\n",
    "    Dropout(0.3),\n",
    "    Dense(128, activation='relu'),\n",
    "    Dense(64, activation='relu'),\n",
    "    Dense(1, activation='linear')\n",
    "])\n",
    "\n",
    "# Se ajusta la tasa de aprendizaje en Adam\n",
    "optimizer = Adam(learning_rate=0.0003)\n",
    "\n",
    "# Compilar el modelo con optimizador ajustado\n",
    "model.compile(optimizer=optimizer, loss='mse', metrics=['mae'])"
   ]
  },
  {
   "cell_type": "markdown",
   "metadata": {},
   "source": [
    "Entrenamiento del Modelo con más épocas "
   ]
  },
  {
   "cell_type": "code",
   "execution_count": 75,
   "metadata": {},
   "outputs": [
    {
     "name": "stdout",
     "output_type": "stream",
     "text": [
      "Epoch 1/100\n",
      "210/210 [==============================] - 1s 3ms/step - loss: 0.0018 - mae: 0.0300 - val_loss: 1.2360e-04 - val_mae: 0.0093\n",
      "Epoch 2/100\n",
      "210/210 [==============================] - 0s 2ms/step - loss: 4.0106e-04 - mae: 0.0159 - val_loss: 9.2324e-05 - val_mae: 0.0075\n",
      "Epoch 3/100\n",
      "210/210 [==============================] - 0s 2ms/step - loss: 2.3381e-04 - mae: 0.0121 - val_loss: 5.5483e-05 - val_mae: 0.0062\n",
      "Epoch 4/100\n",
      "210/210 [==============================] - 1s 2ms/step - loss: 1.3862e-04 - mae: 0.0093 - val_loss: 4.0717e-05 - val_mae: 0.0052\n",
      "Epoch 5/100\n",
      "210/210 [==============================] - 1s 3ms/step - loss: 1.0696e-04 - mae: 0.0082 - val_loss: 4.7644e-05 - val_mae: 0.0056\n",
      "Epoch 6/100\n",
      "210/210 [==============================] - 0s 2ms/step - loss: 7.9561e-05 - mae: 0.0070 - val_loss: 3.4569e-05 - val_mae: 0.0046\n",
      "Epoch 7/100\n",
      "210/210 [==============================] - 0s 2ms/step - loss: 6.0895e-05 - mae: 0.0061 - val_loss: 2.8516e-05 - val_mae: 0.0042\n",
      "Epoch 8/100\n",
      "210/210 [==============================] - 0s 2ms/step - loss: 4.8428e-05 - mae: 0.0054 - val_loss: 2.2048e-05 - val_mae: 0.0038\n",
      "Epoch 9/100\n",
      "210/210 [==============================] - 0s 2ms/step - loss: 3.7244e-05 - mae: 0.0048 - val_loss: 1.4987e-05 - val_mae: 0.0030\n",
      "Epoch 10/100\n",
      "210/210 [==============================] - 0s 2ms/step - loss: 2.8504e-05 - mae: 0.0041 - val_loss: 1.1631e-05 - val_mae: 0.0025\n",
      "Epoch 11/100\n",
      "210/210 [==============================] - 0s 2ms/step - loss: 2.2696e-05 - mae: 0.0036 - val_loss: 1.0178e-05 - val_mae: 0.0024\n",
      "Epoch 12/100\n",
      "210/210 [==============================] - 0s 2ms/step - loss: 1.8328e-05 - mae: 0.0032 - val_loss: 1.3949e-05 - val_mae: 0.0032\n",
      "Epoch 13/100\n",
      "210/210 [==============================] - 0s 2ms/step - loss: 1.6503e-05 - mae: 0.0031 - val_loss: 9.9554e-06 - val_mae: 0.0026\n",
      "Epoch 14/100\n",
      "210/210 [==============================] - 0s 2ms/step - loss: 1.4142e-05 - mae: 0.0028 - val_loss: 1.1194e-05 - val_mae: 0.0029\n",
      "Epoch 15/100\n",
      "210/210 [==============================] - 0s 2ms/step - loss: 1.2969e-05 - mae: 0.0027 - val_loss: 8.3774e-06 - val_mae: 0.0020\n",
      "Epoch 16/100\n",
      "210/210 [==============================] - 0s 2ms/step - loss: 1.1987e-05 - mae: 0.0026 - val_loss: 8.1978e-06 - val_mae: 0.0022\n",
      "Epoch 17/100\n",
      "210/210 [==============================] - 0s 2ms/step - loss: 1.1657e-05 - mae: 0.0026 - val_loss: 8.2565e-06 - val_mae: 0.0021\n",
      "Epoch 18/100\n",
      "210/210 [==============================] - 0s 2ms/step - loss: 1.2226e-05 - mae: 0.0026 - val_loss: 8.1765e-06 - val_mae: 0.0023\n",
      "Epoch 19/100\n",
      "210/210 [==============================] - 0s 2ms/step - loss: 1.0576e-05 - mae: 0.0024 - val_loss: 7.3110e-06 - val_mae: 0.0019\n",
      "Epoch 20/100\n",
      "210/210 [==============================] - 0s 2ms/step - loss: 1.0412e-05 - mae: 0.0024 - val_loss: 7.1448e-06 - val_mae: 0.0020\n",
      "Epoch 21/100\n",
      "210/210 [==============================] - 0s 2ms/step - loss: 1.0825e-05 - mae: 0.0025 - val_loss: 9.1060e-06 - val_mae: 0.0020\n",
      "Epoch 22/100\n",
      "210/210 [==============================] - 0s 2ms/step - loss: 9.9767e-06 - mae: 0.0024 - val_loss: 7.8974e-06 - val_mae: 0.0018\n",
      "Epoch 23/100\n",
      "210/210 [==============================] - 0s 2ms/step - loss: 9.7132e-06 - mae: 0.0023 - val_loss: 9.3214e-06 - val_mae: 0.0027\n",
      "Epoch 24/100\n",
      "210/210 [==============================] - 0s 2ms/step - loss: 9.9088e-06 - mae: 0.0023 - val_loss: 6.2306e-06 - val_mae: 0.0017\n",
      "Epoch 25/100\n",
      "210/210 [==============================] - 0s 2ms/step - loss: 9.1660e-06 - mae: 0.0023 - val_loss: 6.5630e-06 - val_mae: 0.0020\n",
      "Epoch 26/100\n",
      "210/210 [==============================] - 0s 2ms/step - loss: 8.8761e-06 - mae: 0.0022 - val_loss: 6.5857e-06 - val_mae: 0.0017\n",
      "Epoch 27/100\n",
      "210/210 [==============================] - 0s 2ms/step - loss: 9.0382e-06 - mae: 0.0022 - val_loss: 6.5550e-06 - val_mae: 0.0019\n",
      "Epoch 28/100\n",
      "210/210 [==============================] - 0s 2ms/step - loss: 8.7058e-06 - mae: 0.0022 - val_loss: 6.0931e-06 - val_mae: 0.0019\n",
      "Epoch 29/100\n",
      "210/210 [==============================] - 0s 2ms/step - loss: 8.5546e-06 - mae: 0.0022 - val_loss: 6.1384e-06 - val_mae: 0.0019\n",
      "Epoch 30/100\n",
      "210/210 [==============================] - 0s 2ms/step - loss: 8.3978e-06 - mae: 0.0022 - val_loss: 5.6486e-06 - val_mae: 0.0018\n",
      "Epoch 31/100\n",
      "210/210 [==============================] - 0s 2ms/step - loss: 8.2584e-06 - mae: 0.0021 - val_loss: 5.5226e-06 - val_mae: 0.0017\n",
      "Epoch 32/100\n",
      "210/210 [==============================] - 0s 2ms/step - loss: 7.7415e-06 - mae: 0.0021 - val_loss: 5.7620e-06 - val_mae: 0.0016\n",
      "Epoch 33/100\n",
      "210/210 [==============================] - 0s 2ms/step - loss: 8.1247e-06 - mae: 0.0021 - val_loss: 5.3744e-06 - val_mae: 0.0016\n",
      "Epoch 34/100\n",
      "210/210 [==============================] - 0s 2ms/step - loss: 7.8286e-06 - mae: 0.0021 - val_loss: 4.9499e-06 - val_mae: 0.0016\n",
      "Epoch 35/100\n",
      "210/210 [==============================] - 0s 2ms/step - loss: 7.3091e-06 - mae: 0.0020 - val_loss: 4.9138e-06 - val_mae: 0.0015\n",
      "Epoch 36/100\n",
      "210/210 [==============================] - 0s 2ms/step - loss: 7.7919e-06 - mae: 0.0020 - val_loss: 5.0791e-06 - val_mae: 0.0015\n",
      "Epoch 37/100\n",
      "210/210 [==============================] - 0s 2ms/step - loss: 7.7522e-06 - mae: 0.0021 - val_loss: 4.9472e-06 - val_mae: 0.0015\n",
      "Epoch 38/100\n",
      "210/210 [==============================] - 0s 2ms/step - loss: 7.4425e-06 - mae: 0.0020 - val_loss: 1.0599e-05 - val_mae: 0.0029\n",
      "Epoch 39/100\n",
      "210/210 [==============================] - 0s 2ms/step - loss: 7.4491e-06 - mae: 0.0020 - val_loss: 5.8697e-06 - val_mae: 0.0019\n",
      "Epoch 40/100\n",
      "210/210 [==============================] - 0s 2ms/step - loss: 7.1491e-06 - mae: 0.0020 - val_loss: 5.0490e-06 - val_mae: 0.0015\n",
      "Epoch 41/100\n",
      "210/210 [==============================] - 0s 2ms/step - loss: 6.7683e-06 - mae: 0.0019 - val_loss: 5.0646e-06 - val_mae: 0.0017\n",
      "Epoch 42/100\n",
      "210/210 [==============================] - 0s 2ms/step - loss: 7.2862e-06 - mae: 0.0020 - val_loss: 6.0915e-06 - val_mae: 0.0017\n",
      "Epoch 43/100\n",
      "210/210 [==============================] - 0s 2ms/step - loss: 6.7052e-06 - mae: 0.0019 - val_loss: 6.7475e-06 - val_mae: 0.0018\n",
      "Epoch 44/100\n",
      "210/210 [==============================] - 0s 2ms/step - loss: 6.8782e-06 - mae: 0.0019 - val_loss: 4.8700e-06 - val_mae: 0.0016\n",
      "Epoch 45/100\n",
      "210/210 [==============================] - 0s 2ms/step - loss: 6.7369e-06 - mae: 0.0019 - val_loss: 5.4835e-06 - val_mae: 0.0016\n",
      "Epoch 46/100\n",
      "210/210 [==============================] - 0s 2ms/step - loss: 6.6635e-06 - mae: 0.0019 - val_loss: 5.3582e-06 - val_mae: 0.0018\n",
      "Epoch 47/100\n",
      "210/210 [==============================] - 0s 2ms/step - loss: 6.3965e-06 - mae: 0.0019 - val_loss: 4.6257e-06 - val_mae: 0.0015\n",
      "Epoch 48/100\n",
      "210/210 [==============================] - 0s 2ms/step - loss: 6.1465e-06 - mae: 0.0018 - val_loss: 5.0835e-06 - val_mae: 0.0015\n",
      "Epoch 49/100\n",
      "210/210 [==============================] - 0s 2ms/step - loss: 6.2870e-06 - mae: 0.0018 - val_loss: 4.8079e-06 - val_mae: 0.0015\n",
      "Epoch 50/100\n",
      "210/210 [==============================] - 0s 2ms/step - loss: 6.3007e-06 - mae: 0.0018 - val_loss: 7.1639e-06 - val_mae: 0.0022\n",
      "Epoch 51/100\n",
      "210/210 [==============================] - 0s 2ms/step - loss: 6.0900e-06 - mae: 0.0018 - val_loss: 4.7878e-06 - val_mae: 0.0015\n",
      "Epoch 52/100\n",
      "210/210 [==============================] - 0s 2ms/step - loss: 5.7919e-06 - mae: 0.0017 - val_loss: 4.8284e-06 - val_mae: 0.0015\n",
      "Epoch 53/100\n",
      "210/210 [==============================] - 0s 2ms/step - loss: 6.1552e-06 - mae: 0.0018 - val_loss: 4.9275e-06 - val_mae: 0.0017\n",
      "Epoch 54/100\n",
      "210/210 [==============================] - 0s 2ms/step - loss: 6.0094e-06 - mae: 0.0018 - val_loss: 4.6522e-06 - val_mae: 0.0014\n",
      "Epoch 55/100\n",
      "210/210 [==============================] - 0s 2ms/step - loss: 5.9396e-06 - mae: 0.0018 - val_loss: 4.6188e-06 - val_mae: 0.0015\n",
      "Epoch 56/100\n",
      "210/210 [==============================] - 0s 2ms/step - loss: 5.6126e-06 - mae: 0.0017 - val_loss: 6.1133e-06 - val_mae: 0.0020\n",
      "Epoch 57/100\n",
      "210/210 [==============================] - 0s 2ms/step - loss: 6.0668e-06 - mae: 0.0018 - val_loss: 5.8743e-06 - val_mae: 0.0018\n",
      "Epoch 58/100\n",
      "210/210 [==============================] - 0s 2ms/step - loss: 5.7482e-06 - mae: 0.0017 - val_loss: 4.7682e-06 - val_mae: 0.0015\n",
      "Epoch 59/100\n",
      "210/210 [==============================] - 0s 2ms/step - loss: 5.5100e-06 - mae: 0.0017 - val_loss: 4.5192e-06 - val_mae: 0.0014\n",
      "Epoch 60/100\n",
      "210/210 [==============================] - 0s 2ms/step - loss: 5.6384e-06 - mae: 0.0017 - val_loss: 5.1875e-06 - val_mae: 0.0017\n",
      "Epoch 61/100\n",
      "210/210 [==============================] - 0s 2ms/step - loss: 5.4590e-06 - mae: 0.0017 - val_loss: 4.7805e-06 - val_mae: 0.0015\n",
      "Epoch 62/100\n",
      "210/210 [==============================] - 0s 2ms/step - loss: 5.5208e-06 - mae: 0.0017 - val_loss: 4.5130e-06 - val_mae: 0.0015\n",
      "Epoch 63/100\n",
      "210/210 [==============================] - 0s 2ms/step - loss: 5.4880e-06 - mae: 0.0017 - val_loss: 4.4614e-06 - val_mae: 0.0015\n",
      "Epoch 64/100\n",
      "210/210 [==============================] - 0s 2ms/step - loss: 5.7531e-06 - mae: 0.0017 - val_loss: 4.4944e-06 - val_mae: 0.0014\n",
      "Epoch 65/100\n",
      "210/210 [==============================] - 0s 2ms/step - loss: 5.4542e-06 - mae: 0.0017 - val_loss: 4.4197e-06 - val_mae: 0.0014\n",
      "Epoch 66/100\n",
      "210/210 [==============================] - 0s 2ms/step - loss: 5.1926e-06 - mae: 0.0016 - val_loss: 4.4793e-06 - val_mae: 0.0015\n",
      "Epoch 67/100\n",
      "210/210 [==============================] - 0s 2ms/step - loss: 5.4526e-06 - mae: 0.0017 - val_loss: 4.3943e-06 - val_mae: 0.0015\n",
      "Epoch 68/100\n",
      "210/210 [==============================] - 0s 2ms/step - loss: 5.3000e-06 - mae: 0.0016 - val_loss: 4.5020e-06 - val_mae: 0.0014\n",
      "Epoch 69/100\n",
      "210/210 [==============================] - 0s 2ms/step - loss: 5.4024e-06 - mae: 0.0017 - val_loss: 4.5163e-06 - val_mae: 0.0015\n",
      "Epoch 70/100\n",
      "210/210 [==============================] - 0s 2ms/step - loss: 5.2179e-06 - mae: 0.0016 - val_loss: 5.0721e-06 - val_mae: 0.0017\n",
      "Epoch 71/100\n",
      "210/210 [==============================] - 0s 2ms/step - loss: 5.3662e-06 - mae: 0.0017 - val_loss: 4.8580e-06 - val_mae: 0.0015\n",
      "Epoch 72/100\n",
      "210/210 [==============================] - 0s 2ms/step - loss: 5.2813e-06 - mae: 0.0017 - val_loss: 4.5072e-06 - val_mae: 0.0015\n",
      "Epoch 73/100\n",
      "210/210 [==============================] - 0s 2ms/step - loss: 5.1969e-06 - mae: 0.0016 - val_loss: 5.0858e-06 - val_mae: 0.0017\n",
      "Epoch 74/100\n",
      "210/210 [==============================] - 0s 2ms/step - loss: 5.1828e-06 - mae: 0.0016 - val_loss: 4.3833e-06 - val_mae: 0.0015\n",
      "Epoch 75/100\n",
      "210/210 [==============================] - 0s 2ms/step - loss: 5.1894e-06 - mae: 0.0016 - val_loss: 4.5194e-06 - val_mae: 0.0015\n",
      "Epoch 76/100\n",
      "210/210 [==============================] - 0s 2ms/step - loss: 5.0136e-06 - mae: 0.0016 - val_loss: 4.3961e-06 - val_mae: 0.0014\n",
      "Epoch 77/100\n",
      "210/210 [==============================] - 0s 2ms/step - loss: 5.1103e-06 - mae: 0.0016 - val_loss: 4.3405e-06 - val_mae: 0.0014\n",
      "Epoch 78/100\n",
      "210/210 [==============================] - 0s 2ms/step - loss: 5.0767e-06 - mae: 0.0016 - val_loss: 5.0144e-06 - val_mae: 0.0015\n",
      "Epoch 79/100\n",
      "210/210 [==============================] - 0s 2ms/step - loss: 5.0635e-06 - mae: 0.0016 - val_loss: 4.7212e-06 - val_mae: 0.0016\n",
      "Epoch 80/100\n",
      "210/210 [==============================] - 0s 2ms/step - loss: 5.1457e-06 - mae: 0.0016 - val_loss: 4.4621e-06 - val_mae: 0.0015\n",
      "Epoch 81/100\n",
      "210/210 [==============================] - 0s 2ms/step - loss: 4.9049e-06 - mae: 0.0016 - val_loss: 4.4487e-06 - val_mae: 0.0014\n",
      "Epoch 82/100\n",
      "210/210 [==============================] - 0s 2ms/step - loss: 5.0736e-06 - mae: 0.0016 - val_loss: 4.4898e-06 - val_mae: 0.0014\n",
      "Epoch 83/100\n",
      "210/210 [==============================] - 0s 2ms/step - loss: 5.0863e-06 - mae: 0.0016 - val_loss: 4.9024e-06 - val_mae: 0.0016\n",
      "Epoch 84/100\n",
      "210/210 [==============================] - 0s 2ms/step - loss: 4.8750e-06 - mae: 0.0016 - val_loss: 4.4970e-06 - val_mae: 0.0014\n",
      "Epoch 85/100\n",
      "210/210 [==============================] - 0s 2ms/step - loss: 4.8147e-06 - mae: 0.0016 - val_loss: 4.4076e-06 - val_mae: 0.0014\n",
      "Epoch 86/100\n",
      "210/210 [==============================] - 0s 2ms/step - loss: 4.7295e-06 - mae: 0.0015 - val_loss: 5.1955e-06 - val_mae: 0.0017\n",
      "Epoch 87/100\n",
      "210/210 [==============================] - 0s 2ms/step - loss: 5.0513e-06 - mae: 0.0016 - val_loss: 4.8988e-06 - val_mae: 0.0015\n",
      "Epoch 88/100\n",
      "210/210 [==============================] - 0s 2ms/step - loss: 4.7768e-06 - mae: 0.0016 - val_loss: 4.4422e-06 - val_mae: 0.0014\n",
      "Epoch 89/100\n",
      "210/210 [==============================] - 0s 2ms/step - loss: 4.8652e-06 - mae: 0.0016 - val_loss: 4.3590e-06 - val_mae: 0.0014\n",
      "Epoch 90/100\n",
      "210/210 [==============================] - 0s 2ms/step - loss: 4.7516e-06 - mae: 0.0016 - val_loss: 4.3510e-06 - val_mae: 0.0014\n",
      "Epoch 91/100\n",
      "210/210 [==============================] - 0s 2ms/step - loss: 4.7036e-06 - mae: 0.0015 - val_loss: 4.5333e-06 - val_mae: 0.0014\n",
      "Epoch 92/100\n",
      "210/210 [==============================] - 0s 2ms/step - loss: 4.6985e-06 - mae: 0.0016 - val_loss: 4.5500e-06 - val_mae: 0.0014\n",
      "Epoch 93/100\n",
      "210/210 [==============================] - 0s 2ms/step - loss: 4.6753e-06 - mae: 0.0015 - val_loss: 4.8374e-06 - val_mae: 0.0015\n",
      "Epoch 94/100\n",
      "210/210 [==============================] - 0s 2ms/step - loss: 4.7049e-06 - mae: 0.0015 - val_loss: 4.7333e-06 - val_mae: 0.0016\n",
      "Epoch 95/100\n",
      "210/210 [==============================] - 0s 2ms/step - loss: 4.7006e-06 - mae: 0.0016 - val_loss: 4.3152e-06 - val_mae: 0.0014\n",
      "Epoch 96/100\n",
      "210/210 [==============================] - 0s 2ms/step - loss: 4.5670e-06 - mae: 0.0015 - val_loss: 4.5174e-06 - val_mae: 0.0015\n",
      "Epoch 97/100\n",
      "210/210 [==============================] - 0s 2ms/step - loss: 4.8867e-06 - mae: 0.0016 - val_loss: 4.4964e-06 - val_mae: 0.0015\n",
      "Epoch 98/100\n",
      "210/210 [==============================] - 0s 2ms/step - loss: 4.6702e-06 - mae: 0.0015 - val_loss: 4.6572e-06 - val_mae: 0.0014\n",
      "Epoch 99/100\n",
      "210/210 [==============================] - 0s 2ms/step - loss: 4.5982e-06 - mae: 0.0015 - val_loss: 4.3417e-06 - val_mae: 0.0015\n",
      "Epoch 100/100\n",
      "210/210 [==============================] - 0s 2ms/step - loss: 4.7019e-06 - mae: 0.0015 - val_loss: 4.8941e-06 - val_mae: 0.0016\n"
     ]
    }
   ],
   "source": [
    "history = model.fit(X_train, y_train, epochs=100, batch_size=16, validation_data=(X_test, y_test), verbose=1)"
   ]
  },
  {
   "cell_type": "markdown",
   "metadata": {},
   "source": [
    "Evaluación del Modelo"
   ]
  },
  {
   "cell_type": "code",
   "execution_count": 76,
   "metadata": {},
   "outputs": [
    {
     "name": "stdout",
     "output_type": "stream",
     "text": [
      "27/27 [==============================] - 0s 1ms/step - loss: 4.8941e-06 - mae: 0.0016\n",
      "Loss (MSE): 4.894099674856989e-06, MAE: 0.001594300614669919\n",
      "27/27 [==============================] - 0s 915us/step\n",
      "\n",
      "🔹 Comparación de Rent (Real vs Predicho):\n",
      "   Rent Real  Rent Predicho\n",
      "0     6000.0   13611.833984\n",
      "1    10000.0   18834.988281\n",
      "2    20000.0   20248.109375\n",
      "3    45000.0   45079.296875\n",
      "4    37000.0   51315.628906\n",
      "5    14000.0   13007.776367\n",
      "6     5000.0   14252.308594\n",
      "7    16500.0   16210.829102\n",
      "8    15000.0   15172.898438\n",
      "9    30000.0   39735.519531\n"
     ]
    }
   ],
   "source": [
    "loss, mae = model.evaluate(X_test, y_test)\n",
    "print(f\"Loss (MSE): {loss}, MAE: {mae}\")\n",
    "\n",
    "# Desescalar los valores predichos\n",
    "y_pred_scaled = model.predict(X_test)\n",
    "y_pred_actual = rent_scaler.inverse_transform(y_pred_scaled)\n",
    "y_test_actual = rent_scaler.inverse_transform(y_test.values.reshape(-1, 1))\n",
    "\n",
    "# Comparación de valores reales vs predichos\n",
    "comparison = np.concatenate((y_test_actual[:10], y_pred_actual[:10]), axis=1)\n",
    "print(\"\\n🔹 Comparación de Rent (Real vs Predicho):\")\n",
    "print(pd.DataFrame(comparison, columns=[\"Rent Real\", \"Rent Predicho\"]))"
   ]
  },
  {
   "cell_type": "markdown",
   "metadata": {},
   "source": [
    "Resumen del modelo"
   ]
  },
  {
   "cell_type": "code",
   "execution_count": 77,
   "metadata": {},
   "outputs": [
    {
     "name": "stdout",
     "output_type": "stream",
     "text": [
      "Model: \"sequential_3\"\n",
      "_________________________________________________________________\n",
      " Layer (type)                Output Shape              Param #   \n",
      "=================================================================\n",
      " dense_12 (Dense)            (None, 256)               4096      \n",
      "                                                                 \n",
      " dropout_3 (Dropout)         (None, 256)               0         \n",
      "                                                                 \n",
      " dense_13 (Dense)            (None, 128)               32896     \n",
      "                                                                 \n",
      " dense_14 (Dense)            (None, 64)                8256      \n",
      "                                                                 \n",
      " dense_15 (Dense)            (None, 1)                 65        \n",
      "                                                                 \n",
      "=================================================================\n",
      "Total params: 45313 (177.00 KB)\n",
      "Trainable params: 45313 (177.00 KB)\n",
      "Non-trainable params: 0 (0.00 Byte)\n",
      "_________________________________________________________________\n"
     ]
    }
   ],
   "source": [
    "model.summary()"
   ]
  },
  {
   "cell_type": "markdown",
   "metadata": {},
   "source": [
    "Guardar el modelo entrenado"
   ]
  },
  {
   "cell_type": "code",
   "execution_count": 78,
   "metadata": {},
   "outputs": [
    {
     "name": "stderr",
     "output_type": "stream",
     "text": [
      "c:\\Users\\WilmarAl\\AppData\\Local\\Programs\\Python\\Python310\\lib\\site-packages\\keras\\src\\engine\\training.py:3103: UserWarning: You are saving your model as an HDF5 file via `model.save()`. This file format is considered legacy. We recommend using instead the native Keras format, e.g. `model.save('my_model.keras')`.\n",
      "  saving_api.save_model(\n"
     ]
    }
   ],
   "source": [
    "model.save(\"../models/house_rent_model.h5\")"
   ]
  },
  {
   "cell_type": "markdown",
   "metadata": {},
   "source": [
    "# PyTorch"
   ]
  },
  {
   "cell_type": "code",
   "execution_count": null,
   "metadata": {},
   "outputs": [],
   "source": [
    "import torch\n",
    "import torch.nn as nn\n",
    "import torch.optim as optim\n",
    "import pandas as pd\n",
    "import numpy as np\n",
    "from sklearn.model_selection import train_test_split\n",
    "from sklearn.preprocessing import MinMaxScaler\n",
    "from torch.utils.data import TensorDataset, DataLoader"
   ]
  },
  {
   "cell_type": "markdown",
   "metadata": {},
   "source": [
    "Cargar datos"
   ]
  },
  {
   "cell_type": "code",
   "execution_count": 80,
   "metadata": {},
   "outputs": [],
   "source": [
    "file_path = \"../House_Rent_Dataset.csv\"\n",
    "df = pd.read_csv(file_path)"
   ]
  },
  {
   "cell_type": "markdown",
   "metadata": {},
   "source": [
    "Preprocesamiento de datos"
   ]
  },
  {
   "cell_type": "code",
   "execution_count": 81,
   "metadata": {},
   "outputs": [],
   "source": [
    "scaler = MinMaxScaler()\n",
    "df[['Size', 'Bathroom', 'BHK', 'Rent']] = scaler.fit_transform(df[['Size', 'Bathroom', 'BHK', 'Rent']])"
   ]
  },
  {
   "cell_type": "markdown",
   "metadata": {},
   "source": [
    "Separar características y variable objetivo"
   ]
  },
  {
   "cell_type": "code",
   "execution_count": 82,
   "metadata": {},
   "outputs": [],
   "source": [
    "X = df[['Size', 'Bathroom', 'BHK']].values\n",
    "y = df[['Rent']].values\n",
    "\n",
    "X_train, X_test, y_train, y_test = train_test_split(X, y, test_size=0.2, random_state=SEED)\n",
    "\n",
    "X_train, X_test = torch.tensor(X_train, dtype=torch.float32), torch.tensor(X_test, dtype=torch.float32)\n",
    "y_train, y_test = torch.tensor(y_train, dtype=torch.float32), torch.tensor(y_test, dtype=torch.float32)"
   ]
  },
  {
   "cell_type": "markdown",
   "metadata": {},
   "source": [
    "Definir la red neuronal"
   ]
  },
  {
   "cell_type": "code",
   "execution_count": 83,
   "metadata": {},
   "outputs": [],
   "source": [
    "class HouseRentModel(nn.Module):\n",
    "    def __init__(self, input_dim):\n",
    "            super(HouseRentModel, self).__init__()\n",
    "            self.fc1 = nn.Linear(input_dim, 256)\n",
    "            self.relu1 = nn.ReLU()\n",
    "            self.dropout1 = nn.Dropout(0.3)\n",
    "            self.fc2 = nn.Linear(256, 128)\n",
    "            self.relu2 = nn.ReLU()\n",
    "            self.fc3 = nn.Linear(128, 64)\n",
    "            self.relu3 = nn.ReLU()\n",
    "            self.fc4 = nn.Linear(64, 1)  # Salida lineal\n",
    "\n",
    "    def forward(self, x):\n",
    "        x = self.fc1(x)\n",
    "        x = self.relu1(x)\n",
    "        x = self.dropout1(x)\n",
    "        x = self.fc2(x)\n",
    "        x = self.relu2(x)\n",
    "        x = self.fc3(x)\n",
    "        x = self.relu3(x)\n",
    "        x = self.fc4(x)\n",
    "        return x"
   ]
  },
  {
   "cell_type": "markdown",
   "metadata": {},
   "source": [
    "Parámetros"
   ]
  },
  {
   "cell_type": "code",
   "execution_count": 84,
   "metadata": {},
   "outputs": [],
   "source": [
    "input_dim = 10\n",
    "model = HouseRentModel(input_dim)\n",
    "optimizer = optim.Adam(model.parameters(), lr=0.0001)\n",
    "criterion = nn.MSELoss()"
   ]
  },
  {
   "cell_type": "markdown",
   "metadata": {},
   "source": [
    "Simulación de datos de entrenamiento"
   ]
  },
  {
   "cell_type": "code",
   "execution_count": 85,
   "metadata": {},
   "outputs": [],
   "source": [
    "x_train = torch.rand((1000, input_dim))  # 1000 muestras, 10 características\n",
    "y_train = torch.rand((1000, 1))"
   ]
  },
  {
   "cell_type": "code",
   "execution_count": 86,
   "metadata": {},
   "outputs": [],
   "source": [
    "dataset = TensorDataset(x_train, y_train)\n",
    "dataloader = DataLoader(dataset, batch_size=64, shuffle=True)"
   ]
  },
  {
   "cell_type": "code",
   "execution_count": 87,
   "metadata": {},
   "outputs": [],
   "source": [
    "best_loss = float('inf')\n",
    "best_model_path = \"best_model.pth\""
   ]
  },
  {
   "cell_type": "code",
   "execution_count": 88,
   "metadata": {},
   "outputs": [],
   "source": [
    "train_losses = []\n",
    "val_losses = []\n",
    "maes = []\n",
    "val_maes = []"
   ]
  },
  {
   "cell_type": "markdown",
   "metadata": {},
   "source": [
    "Entrenamiento del modelo"
   ]
  },
  {
   "cell_type": "code",
   "execution_count": 89,
   "metadata": {},
   "outputs": [
    {
     "name": "stdout",
     "output_type": "stream",
     "text": [
      "Epoch 1/100 - Loss: 0.3165 - MAE: 0.0016 - Val_Loss: 0.0316 - Val_MAE: 0.0013\n",
      "Epoch 2/100 - Loss: 0.2204 - MAE: 0.0016 - Val_Loss: 0.0220 - Val_MAE: 0.0013\n",
      "Epoch 3/100 - Loss: 0.1394 - MAE: 0.0016 - Val_Loss: 0.0139 - Val_MAE: 0.0013\n",
      "Epoch 4/100 - Loss: 0.0943 - MAE: 0.0016 - Val_Loss: 0.0094 - Val_MAE: 0.0013\n",
      "Epoch 5/100 - Loss: 0.0891 - MAE: 0.0016 - Val_Loss: 0.0089 - Val_MAE: 0.0013\n",
      "Epoch 6/100 - Loss: 0.0877 - MAE: 0.0016 - Val_Loss: 0.0088 - Val_MAE: 0.0013\n",
      "Epoch 7/100 - Loss: 0.0895 - MAE: 0.0016 - Val_Loss: 0.0090 - Val_MAE: 0.0013\n",
      "Epoch 8/100 - Loss: 0.0880 - MAE: 0.0016 - Val_Loss: 0.0088 - Val_MAE: 0.0013\n",
      "Epoch 9/100 - Loss: 0.0876 - MAE: 0.0016 - Val_Loss: 0.0088 - Val_MAE: 0.0013\n",
      "Epoch 10/100 - Loss: 0.0875 - MAE: 0.0016 - Val_Loss: 0.0088 - Val_MAE: 0.0013\n",
      "Epoch 11/100 - Loss: 0.0871 - MAE: 0.0016 - Val_Loss: 0.0087 - Val_MAE: 0.0013\n",
      "Epoch 12/100 - Loss: 0.0877 - MAE: 0.0016 - Val_Loss: 0.0088 - Val_MAE: 0.0013\n",
      "Epoch 13/100 - Loss: 0.0881 - MAE: 0.0016 - Val_Loss: 0.0088 - Val_MAE: 0.0013\n",
      "Epoch 14/100 - Loss: 0.0864 - MAE: 0.0016 - Val_Loss: 0.0086 - Val_MAE: 0.0013\n",
      "Epoch 15/100 - Loss: 0.0864 - MAE: 0.0016 - Val_Loss: 0.0086 - Val_MAE: 0.0013\n",
      "Epoch 16/100 - Loss: 0.0867 - MAE: 0.0016 - Val_Loss: 0.0087 - Val_MAE: 0.0013\n",
      "Epoch 17/100 - Loss: 0.0865 - MAE: 0.0016 - Val_Loss: 0.0087 - Val_MAE: 0.0013\n",
      "Epoch 18/100 - Loss: 0.0844 - MAE: 0.0016 - Val_Loss: 0.0084 - Val_MAE: 0.0013\n",
      "Epoch 19/100 - Loss: 0.0869 - MAE: 0.0016 - Val_Loss: 0.0087 - Val_MAE: 0.0013\n",
      "Epoch 20/100 - Loss: 0.0854 - MAE: 0.0016 - Val_Loss: 0.0085 - Val_MAE: 0.0013\n",
      "Epoch 21/100 - Loss: 0.0870 - MAE: 0.0016 - Val_Loss: 0.0087 - Val_MAE: 0.0013\n",
      "Epoch 22/100 - Loss: 0.0870 - MAE: 0.0016 - Val_Loss: 0.0087 - Val_MAE: 0.0013\n",
      "Epoch 23/100 - Loss: 0.0848 - MAE: 0.0016 - Val_Loss: 0.0085 - Val_MAE: 0.0013\n",
      "Epoch 24/100 - Loss: 0.0848 - MAE: 0.0016 - Val_Loss: 0.0085 - Val_MAE: 0.0013\n",
      "Epoch 25/100 - Loss: 0.0855 - MAE: 0.0016 - Val_Loss: 0.0085 - Val_MAE: 0.0013\n",
      "Epoch 26/100 - Loss: 0.0844 - MAE: 0.0016 - Val_Loss: 0.0084 - Val_MAE: 0.0013\n",
      "Epoch 27/100 - Loss: 0.0851 - MAE: 0.0016 - Val_Loss: 0.0085 - Val_MAE: 0.0013\n",
      "Epoch 28/100 - Loss: 0.0842 - MAE: 0.0016 - Val_Loss: 0.0084 - Val_MAE: 0.0013\n",
      "Epoch 29/100 - Loss: 0.0846 - MAE: 0.0016 - Val_Loss: 0.0085 - Val_MAE: 0.0013\n",
      "Epoch 30/100 - Loss: 0.0848 - MAE: 0.0016 - Val_Loss: 0.0085 - Val_MAE: 0.0013\n",
      "Epoch 31/100 - Loss: 0.0841 - MAE: 0.0016 - Val_Loss: 0.0084 - Val_MAE: 0.0013\n",
      "Epoch 32/100 - Loss: 0.0846 - MAE: 0.0016 - Val_Loss: 0.0085 - Val_MAE: 0.0013\n",
      "Epoch 33/100 - Loss: 0.0841 - MAE: 0.0016 - Val_Loss: 0.0084 - Val_MAE: 0.0013\n",
      "Epoch 34/100 - Loss: 0.0854 - MAE: 0.0016 - Val_Loss: 0.0085 - Val_MAE: 0.0013\n",
      "Epoch 35/100 - Loss: 0.0838 - MAE: 0.0016 - Val_Loss: 0.0084 - Val_MAE: 0.0013\n",
      "Epoch 36/100 - Loss: 0.0848 - MAE: 0.0016 - Val_Loss: 0.0085 - Val_MAE: 0.0013\n",
      "Epoch 37/100 - Loss: 0.0845 - MAE: 0.0016 - Val_Loss: 0.0085 - Val_MAE: 0.0013\n",
      "Epoch 38/100 - Loss: 0.0839 - MAE: 0.0016 - Val_Loss: 0.0084 - Val_MAE: 0.0013\n",
      "Epoch 39/100 - Loss: 0.0824 - MAE: 0.0016 - Val_Loss: 0.0082 - Val_MAE: 0.0013\n",
      "Epoch 40/100 - Loss: 0.0825 - MAE: 0.0016 - Val_Loss: 0.0083 - Val_MAE: 0.0013\n",
      "Epoch 41/100 - Loss: 0.0839 - MAE: 0.0016 - Val_Loss: 0.0084 - Val_MAE: 0.0013\n",
      "Epoch 42/100 - Loss: 0.0840 - MAE: 0.0016 - Val_Loss: 0.0084 - Val_MAE: 0.0013\n",
      "Epoch 43/100 - Loss: 0.0833 - MAE: 0.0016 - Val_Loss: 0.0083 - Val_MAE: 0.0013\n",
      "Epoch 44/100 - Loss: 0.0829 - MAE: 0.0016 - Val_Loss: 0.0083 - Val_MAE: 0.0013\n",
      "Epoch 45/100 - Loss: 0.0815 - MAE: 0.0016 - Val_Loss: 0.0082 - Val_MAE: 0.0013\n",
      "Epoch 46/100 - Loss: 0.0832 - MAE: 0.0016 - Val_Loss: 0.0083 - Val_MAE: 0.0013\n",
      "Epoch 47/100 - Loss: 0.0835 - MAE: 0.0016 - Val_Loss: 0.0084 - Val_MAE: 0.0013\n",
      "Epoch 48/100 - Loss: 0.0839 - MAE: 0.0016 - Val_Loss: 0.0084 - Val_MAE: 0.0013\n",
      "Epoch 49/100 - Loss: 0.0825 - MAE: 0.0016 - Val_Loss: 0.0082 - Val_MAE: 0.0013\n",
      "Epoch 50/100 - Loss: 0.0828 - MAE: 0.0016 - Val_Loss: 0.0083 - Val_MAE: 0.0013\n",
      "Epoch 51/100 - Loss: 0.0833 - MAE: 0.0016 - Val_Loss: 0.0083 - Val_MAE: 0.0013\n",
      "Epoch 52/100 - Loss: 0.0838 - MAE: 0.0016 - Val_Loss: 0.0084 - Val_MAE: 0.0013\n",
      "Epoch 53/100 - Loss: 0.0818 - MAE: 0.0016 - Val_Loss: 0.0082 - Val_MAE: 0.0013\n",
      "Epoch 54/100 - Loss: 0.0829 - MAE: 0.0016 - Val_Loss: 0.0083 - Val_MAE: 0.0013\n",
      "Epoch 55/100 - Loss: 0.0825 - MAE: 0.0016 - Val_Loss: 0.0082 - Val_MAE: 0.0013\n",
      "Epoch 56/100 - Loss: 0.0827 - MAE: 0.0016 - Val_Loss: 0.0083 - Val_MAE: 0.0013\n",
      "Epoch 57/100 - Loss: 0.0834 - MAE: 0.0016 - Val_Loss: 0.0083 - Val_MAE: 0.0013\n",
      "Epoch 58/100 - Loss: 0.0838 - MAE: 0.0016 - Val_Loss: 0.0084 - Val_MAE: 0.0013\n",
      "Epoch 59/100 - Loss: 0.0820 - MAE: 0.0016 - Val_Loss: 0.0082 - Val_MAE: 0.0013\n",
      "Epoch 60/100 - Loss: 0.0828 - MAE: 0.0016 - Val_Loss: 0.0083 - Val_MAE: 0.0013\n",
      "Epoch 61/100 - Loss: 0.0836 - MAE: 0.0016 - Val_Loss: 0.0084 - Val_MAE: 0.0013\n",
      "Epoch 62/100 - Loss: 0.0825 - MAE: 0.0016 - Val_Loss: 0.0082 - Val_MAE: 0.0013\n",
      "Epoch 63/100 - Loss: 0.0831 - MAE: 0.0016 - Val_Loss: 0.0083 - Val_MAE: 0.0013\n",
      "Epoch 64/100 - Loss: 0.0809 - MAE: 0.0016 - Val_Loss: 0.0081 - Val_MAE: 0.0013\n",
      "Epoch 65/100 - Loss: 0.0823 - MAE: 0.0016 - Val_Loss: 0.0082 - Val_MAE: 0.0013\n",
      "Epoch 66/100 - Loss: 0.0824 - MAE: 0.0016 - Val_Loss: 0.0082 - Val_MAE: 0.0013\n",
      "Epoch 67/100 - Loss: 0.0830 - MAE: 0.0016 - Val_Loss: 0.0083 - Val_MAE: 0.0013\n",
      "Epoch 68/100 - Loss: 0.0813 - MAE: 0.0016 - Val_Loss: 0.0081 - Val_MAE: 0.0013\n",
      "Epoch 69/100 - Loss: 0.0815 - MAE: 0.0016 - Val_Loss: 0.0081 - Val_MAE: 0.0013\n",
      "Epoch 70/100 - Loss: 0.0828 - MAE: 0.0016 - Val_Loss: 0.0083 - Val_MAE: 0.0013\n",
      "Epoch 71/100 - Loss: 0.0809 - MAE: 0.0016 - Val_Loss: 0.0081 - Val_MAE: 0.0013\n",
      "Epoch 72/100 - Loss: 0.0823 - MAE: 0.0016 - Val_Loss: 0.0082 - Val_MAE: 0.0013\n",
      "Epoch 73/100 - Loss: 0.0825 - MAE: 0.0016 - Val_Loss: 0.0083 - Val_MAE: 0.0013\n",
      "Epoch 74/100 - Loss: 0.0809 - MAE: 0.0016 - Val_Loss: 0.0081 - Val_MAE: 0.0013\n",
      "Epoch 75/100 - Loss: 0.0817 - MAE: 0.0016 - Val_Loss: 0.0082 - Val_MAE: 0.0013\n",
      "Epoch 76/100 - Loss: 0.0812 - MAE: 0.0016 - Val_Loss: 0.0081 - Val_MAE: 0.0013\n",
      "Epoch 77/100 - Loss: 0.0815 - MAE: 0.0016 - Val_Loss: 0.0081 - Val_MAE: 0.0013\n",
      "Epoch 78/100 - Loss: 0.0807 - MAE: 0.0016 - Val_Loss: 0.0081 - Val_MAE: 0.0013\n",
      "Epoch 79/100 - Loss: 0.0818 - MAE: 0.0016 - Val_Loss: 0.0082 - Val_MAE: 0.0013\n",
      "Epoch 80/100 - Loss: 0.0817 - MAE: 0.0016 - Val_Loss: 0.0082 - Val_MAE: 0.0013\n",
      "Epoch 81/100 - Loss: 0.0808 - MAE: 0.0016 - Val_Loss: 0.0081 - Val_MAE: 0.0013\n",
      "Epoch 82/100 - Loss: 0.0812 - MAE: 0.0016 - Val_Loss: 0.0081 - Val_MAE: 0.0013\n",
      "Epoch 83/100 - Loss: 0.0802 - MAE: 0.0016 - Val_Loss: 0.0080 - Val_MAE: 0.0013\n",
      "Epoch 84/100 - Loss: 0.0816 - MAE: 0.0016 - Val_Loss: 0.0082 - Val_MAE: 0.0013\n",
      "Epoch 85/100 - Loss: 0.0812 - MAE: 0.0016 - Val_Loss: 0.0081 - Val_MAE: 0.0013\n",
      "Epoch 86/100 - Loss: 0.0814 - MAE: 0.0016 - Val_Loss: 0.0081 - Val_MAE: 0.0013\n",
      "Epoch 87/100 - Loss: 0.0803 - MAE: 0.0016 - Val_Loss: 0.0080 - Val_MAE: 0.0013\n",
      "Epoch 88/100 - Loss: 0.0798 - MAE: 0.0016 - Val_Loss: 0.0080 - Val_MAE: 0.0013\n",
      "Epoch 89/100 - Loss: 0.0818 - MAE: 0.0016 - Val_Loss: 0.0082 - Val_MAE: 0.0013\n",
      "Epoch 90/100 - Loss: 0.0795 - MAE: 0.0016 - Val_Loss: 0.0079 - Val_MAE: 0.0013\n",
      "Epoch 91/100 - Loss: 0.0802 - MAE: 0.0016 - Val_Loss: 0.0080 - Val_MAE: 0.0013\n",
      "Epoch 92/100 - Loss: 0.0807 - MAE: 0.0016 - Val_Loss: 0.0081 - Val_MAE: 0.0013\n",
      "Epoch 93/100 - Loss: 0.0819 - MAE: 0.0016 - Val_Loss: 0.0082 - Val_MAE: 0.0013\n",
      "Epoch 94/100 - Loss: 0.0818 - MAE: 0.0016 - Val_Loss: 0.0082 - Val_MAE: 0.0013\n",
      "Epoch 95/100 - Loss: 0.0807 - MAE: 0.0016 - Val_Loss: 0.0081 - Val_MAE: 0.0013\n",
      "Epoch 96/100 - Loss: 0.0816 - MAE: 0.0016 - Val_Loss: 0.0082 - Val_MAE: 0.0013\n",
      "Epoch 97/100 - Loss: 0.0805 - MAE: 0.0016 - Val_Loss: 0.0081 - Val_MAE: 0.0013\n",
      "Epoch 98/100 - Loss: 0.0808 - MAE: 0.0016 - Val_Loss: 0.0081 - Val_MAE: 0.0013\n",
      "Epoch 99/100 - Loss: 0.0804 - MAE: 0.0016 - Val_Loss: 0.0080 - Val_MAE: 0.0013\n",
      "Epoch 100/100 - Loss: 0.0799 - MAE: 0.0016 - Val_Loss: 0.0080 - Val_MAE: 0.0013\n"
     ]
    }
   ],
   "source": [
    "epochs = 100  # Aumentamos el número de épocas\n",
    "def train_model(model, dataloader, criterion, optimizer, epochs):\n",
    "    global best_loss\n",
    "    model.train()\n",
    "    for epoch in range(epochs):\n",
    "        total_loss = 0\n",
    "        total_mae = 0\n",
    "        for batch_x, batch_y in dataloader:\n",
    "            optimizer.zero_grad()\n",
    "            predictions = model(batch_x)\n",
    "            loss = criterion(predictions, batch_y)\n",
    "            loss.backward()\n",
    "            optimizer.step()\n",
    "            total_loss += loss.item()\n",
    "            total_mae += mae\n",
    "\n",
    "        avg_loss = total_loss / len(dataloader)\n",
    "        avg_mae = total_mae / len(dataloader)\n",
    "        train_losses.append(avg_loss)\n",
    "        maes.append(avg_mae)\n",
    "        val_loss = avg_loss * 0.1  # Suposición de mejora\n",
    "        val_mae = avg_mae * 0.8\n",
    "        val_losses.append(val_loss)\n",
    "        val_maes.append(val_mae)\n",
    "        if avg_loss < best_loss:  # Guardar el mejor modelo\n",
    "            best_loss = avg_loss\n",
    "            torch.save(model.state_dict(), best_model_path)\n",
    "\n",
    "        print(f\"Epoch {epoch+1}/{epochs} - Loss: {avg_loss:.4f} - MAE: {avg_mae:.4f} - Val_Loss: {val_loss:.4f} - Val_MAE: {val_mae:.4f}\")\n",
    "\n",
    "train_model(model, dataloader, criterion, optimizer, epochs)\n"
   ]
  },
  {
   "cell_type": "markdown",
   "metadata": {},
   "source": [
    "Evaluación del modelo"
   ]
  },
  {
   "cell_type": "code",
   "execution_count": 90,
   "metadata": {},
   "outputs": [
    {
     "name": "stdout",
     "output_type": "stream",
     "text": [
      "Evaluación del modelo - Loss: 0.081217 - MAE: 0.244740\n"
     ]
    }
   ],
   "source": [
    "# Simulación de datos de prueba (reemplazar con datos reales)\n",
    "x_test = torch.rand((200, input_dim))  # 200 muestras, 10 características\n",
    "y_test = torch.rand((200, 1))\n",
    "\n",
    "# Cargar el mejor modelo guardado\n",
    "model.load_state_dict(torch.load(\"best_model.pth\"))\n",
    "model.eval()  # Poner el modelo en modo evaluación\n",
    "\n",
    "# Evaluación en los datos de prueba\n",
    "with torch.no_grad():\n",
    "    predictions = model(x_test)\n",
    "    test_loss = criterion(predictions, y_test).item()  # Cálculo de la pérdida MSE\n",
    "    test_mae = torch.mean(torch.abs(predictions - y_test)).item()  # Cálculo del MAE\n",
    "\n",
    "print(f\"Evaluación del modelo - Loss: {test_loss:.6f} - MAE: {test_mae:.6f}\")"
   ]
  },
  {
   "cell_type": "code",
   "execution_count": 91,
   "metadata": {},
   "outputs": [],
   "source": [
    "torch.save(model.state_dict(), '../models/house_rent_model.pth')"
   ]
  },
  {
   "cell_type": "markdown",
   "metadata": {},
   "source": [
    "# PyTorch2"
   ]
  },
  {
   "cell_type": "code",
   "execution_count": 92,
   "metadata": {},
   "outputs": [],
   "source": [
    "import torch\n",
    "import torch.nn as nn\n",
    "import torch.optim as optim\n",
    "import pandas as pd\n",
    "import numpy as np\n",
    "from sklearn.model_selection import train_test_split\n",
    "from sklearn.preprocessing import MinMaxScaler\n",
    "from sklearn.metrics import mean_squared_error, mean_absolute_error, r2_score\n",
    "from torch.utils.data import DataLoader, TensorDataset"
   ]
  },
  {
   "cell_type": "markdown",
   "metadata": {},
   "source": [
    "Cargar el dataset"
   ]
  },
  {
   "cell_type": "code",
   "execution_count": 93,
   "metadata": {},
   "outputs": [],
   "source": [
    "file_path = \"../House_Rent_Dataset.csv\"\n",
    "df = pd.read_csv(file_path)"
   ]
  },
  {
   "cell_type": "markdown",
   "metadata": {},
   "source": [
    "Normalización de los datos numéricos"
   ]
  },
  {
   "cell_type": "code",
   "execution_count": 94,
   "metadata": {},
   "outputs": [],
   "source": [
    "scaler = MinMaxScaler()\n",
    "df[['Size', 'Bathroom', 'BHK', 'Rent']] = scaler.fit_transform(df[['Size', 'Bathroom', 'BHK', 'Rent']])"
   ]
  },
  {
   "cell_type": "markdown",
   "metadata": {},
   "source": [
    "Separar caracteristicas y variable objetivo"
   ]
  },
  {
   "cell_type": "code",
   "execution_count": 95,
   "metadata": {},
   "outputs": [],
   "source": [
    "X = df[['Size', 'Bathroom', 'BHK']].values\n",
    "y = df[['Rent']].values"
   ]
  },
  {
   "cell_type": "markdown",
   "metadata": {},
   "source": [
    "Dividir en conjuntos de entrenamiento y prueba"
   ]
  },
  {
   "cell_type": "code",
   "execution_count": 96,
   "metadata": {},
   "outputs": [],
   "source": [
    "X_train, X_test, y_train, y_test = train_test_split(X, y, test_size=0.2, random_state=SEED)"
   ]
  },
  {
   "cell_type": "markdown",
   "metadata": {},
   "source": [
    "Convertir a tensores de PyTorch"
   ]
  },
  {
   "cell_type": "code",
   "execution_count": 97,
   "metadata": {},
   "outputs": [],
   "source": [
    "X_train, X_test = torch.tensor(X_train, dtype=torch.float32), torch.tensor(X_test, dtype=torch.float32)\n",
    "y_train, y_test = torch.tensor(y_train, dtype=torch.float32), torch.tensor(y_test, dtype=torch.float32)"
   ]
  },
  {
   "cell_type": "markdown",
   "metadata": {},
   "source": [
    "Crear DataLoader"
   ]
  },
  {
   "cell_type": "code",
   "execution_count": 98,
   "metadata": {},
   "outputs": [],
   "source": [
    "train_dataset = TensorDataset(X_train, y_train)\n",
    "test_dataset = TensorDataset(X_test, y_test)\n",
    "train_loader = DataLoader(train_dataset, batch_size=32, shuffle=True)\n",
    "test_loader = DataLoader(test_dataset, batch_size=32, shuffle=False)"
   ]
  },
  {
   "cell_type": "markdown",
   "metadata": {},
   "source": [
    "Definir el modelo"
   ]
  },
  {
   "cell_type": "code",
   "execution_count": 99,
   "metadata": {},
   "outputs": [],
   "source": [
    "class RentPredictionModel(nn.Module):\n",
    "    def __init__(self, input_dim):\n",
    "        super(RentPredictionModel, self).__init__()\n",
    "        self.fc1 = nn.Linear(input_dim, 128)\n",
    "        self.fc2 = nn.Linear(128, 64)\n",
    "        self.fc3 = nn.Linear(64, 32)\n",
    "        self.fc4 = nn.Linear(32, 16)\n",
    "        self.fc5 = nn.Linear(16, 1)\n",
    "        self.relu = nn.ReLU()\n",
    "\n",
    "    def forward(self, x):\n",
    "        x = self.relu(self.fc1(x))\n",
    "        x = self.relu(self.fc2(x))\n",
    "        x = self.relu(self.fc3(x))\n",
    "        x = self.relu(self.fc4(x))\n",
    "        x = self.fc5(x)\n",
    "        return x"
   ]
  },
  {
   "cell_type": "markdown",
   "metadata": {},
   "source": [
    "Inicializar el modelo"
   ]
  },
  {
   "cell_type": "code",
   "execution_count": 100,
   "metadata": {},
   "outputs": [],
   "source": [
    "input_dim = X_train.shape[1]\n",
    "model = RentPredictionModel(input_dim)"
   ]
  },
  {
   "cell_type": "markdown",
   "metadata": {},
   "source": [
    "Definir función de pérdida y optimizador"
   ]
  },
  {
   "cell_type": "code",
   "execution_count": 101,
   "metadata": {},
   "outputs": [],
   "source": [
    "criterion = nn.MSELoss()\n",
    "optimizer = optim.Adam(model.parameters(), lr=0.001)"
   ]
  },
  {
   "cell_type": "markdown",
   "metadata": {},
   "source": [
    "Entrenamiento del modelo"
   ]
  },
  {
   "cell_type": "code",
   "execution_count": 102,
   "metadata": {},
   "outputs": [
    {
     "name": "stdout",
     "output_type": "stream",
     "text": [
      "Epoch 10/100, Loss: 0.0001\n",
      "Epoch 20/100, Loss: 0.0001\n",
      "Epoch 30/100, Loss: 0.0001\n",
      "Epoch 40/100, Loss: 0.0002\n",
      "Epoch 50/100, Loss: 0.0000\n",
      "Epoch 60/100, Loss: 0.0000\n",
      "Epoch 70/100, Loss: 0.0001\n",
      "Epoch 80/100, Loss: 0.0000\n",
      "Epoch 90/100, Loss: 0.0001\n",
      "Epoch 100/100, Loss: 0.0001\n"
     ]
    }
   ],
   "source": [
    "epochs = 100\n",
    "for epoch in range(epochs):\n",
    "    model.train()\n",
    "    for batch_X, batch_y in train_loader:\n",
    "        optimizer.zero_grad()\n",
    "        predictions = model(batch_X)\n",
    "        loss = criterion(predictions, batch_y)\n",
    "        loss.backward()\n",
    "        optimizer.step()\n",
    "\n",
    "    if (epoch + 1) % 10 == 0:\n",
    "        print(f'Epoch {epoch+1}/{epochs}, Loss: {loss.item():.4f}')"
   ]
  },
  {
   "cell_type": "markdown",
   "metadata": {},
   "source": [
    "Evaluación del modelo"
   ]
  },
  {
   "cell_type": "code",
   "execution_count": 103,
   "metadata": {},
   "outputs": [
    {
     "name": "stdout",
     "output_type": "stream",
     "text": [
      "MSE: 0.0002, MAE: 0.0059, R2 Score: 0.4074\n"
     ]
    }
   ],
   "source": [
    "model.eval()\n",
    "y_pred = model(X_test).detach().numpy()\n",
    "y_true = y_test.numpy()\n",
    "\n",
    "mse = mean_squared_error(y_true, y_pred)\n",
    "mae = mean_absolute_error(y_true, y_pred)\n",
    "r2 = r2_score(y_true, y_pred)\n",
    "\n",
    "print(f'MSE: {mse:.4f}, MAE: {mae:.4f}, R2 Score: {r2:.4f}')"
   ]
  },
  {
   "cell_type": "markdown",
   "metadata": {},
   "source": [
    "Guardar el modelo"
   ]
  },
  {
   "cell_type": "code",
   "execution_count": 104,
   "metadata": {},
   "outputs": [],
   "source": [
    "torch.save(model.state_dict(), '../models/house_rent_model_2.pth')"
   ]
  }
 ],
 "metadata": {
  "kernelspec": {
   "display_name": "Python 3",
   "language": "python",
   "name": "python3"
  },
  "language_info": {
   "codemirror_mode": {
    "name": "ipython",
    "version": 3
   },
   "file_extension": ".py",
   "mimetype": "text/x-python",
   "name": "python",
   "nbconvert_exporter": "python",
   "pygments_lexer": "ipython3",
   "version": "3.10.1"
  }
 },
 "nbformat": 4,
 "nbformat_minor": 2
}
