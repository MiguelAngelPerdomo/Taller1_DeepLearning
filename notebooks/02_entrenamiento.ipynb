{
 "cells": [
  {
   "cell_type": "code",
   "execution_count": 1,
   "metadata": {},
   "outputs": [
    {
     "name": "stdout",
     "output_type": "stream",
     "text": [
      "WARNING:tensorflow:From c:\\Users\\WilmarAl\\AppData\\Local\\Programs\\Python\\Python310\\lib\\site-packages\\keras\\src\\losses.py:2976: The name tf.losses.sparse_softmax_cross_entropy is deprecated. Please use tf.compat.v1.losses.sparse_softmax_cross_entropy instead.\n",
      "\n"
     ]
    }
   ],
   "source": [
    "import tensorflow as tf\n",
    "from tensorflow.keras.models import Sequential\n",
    "from tensorflow.keras.layers import Dense, Dropout\n",
    "from tensorflow.keras.optimizers import Adam\n",
    "from sklearn.model_selection import train_test_split\n",
    "import pandas as pd\n",
    "from sklearn.preprocessing import MinMaxScaler\n",
    "import numpy as np"
   ]
  },
  {
   "cell_type": "markdown",
   "metadata": {},
   "source": [
    "Configurar semilla para reproducibilidad"
   ]
  },
  {
   "cell_type": "code",
   "execution_count": 2,
   "metadata": {},
   "outputs": [],
   "source": [
    "SEED = 42\n",
    "np.random.seed(SEED)\n",
    "tf.random.set_seed(SEED)"
   ]
  },
  {
   "cell_type": "markdown",
   "metadata": {},
   "source": [
    "Cargar el dataset"
   ]
  },
  {
   "cell_type": "code",
   "execution_count": 3,
   "metadata": {},
   "outputs": [],
   "source": [
    "file_path = \"../House_Rent_Dataset.csv\"\n",
    "df = pd.read_csv(file_path)"
   ]
  },
  {
   "cell_type": "markdown",
   "metadata": {},
   "source": [
    "Preprocesamiento de datos"
   ]
  },
  {
   "cell_type": "code",
   "execution_count": 4,
   "metadata": {},
   "outputs": [],
   "source": [
    "# Eliminar columnas irrelevantes\n",
    "df.drop(columns=[\"Posted On\", \"Point of Contact\"], inplace=True)\n",
    "\n",
    "# Separar la información de \"Floor\"\n",
    "df[['Current Floor', 'Total Floors']] = df['Floor'].str.extract(r'(\\d+|Ground)\\D+(\\d+)?')\n",
    "df['Current Floor'] = df['Current Floor'].replace('Ground', 0).astype(float)\n",
    "df['Total Floors'] = df['Total Floors'].astype(float)\n",
    "df.drop(columns=['Floor'], inplace=True)\n",
    "\n",
    "# Aplicar One-Hot Encoding a columnas con pocas categorías\n",
    "one_hot_cols = ['Area Type', 'City', 'Furnishing Status', 'Tenant Preferred']\n",
    "df = pd.get_dummies(df, columns=one_hot_cols, drop_first=True)\n",
    "\n",
    "# Codificación por frecuencia para 'Area Locality'\n",
    "locality_counts = df['Area Locality'].value_counts()\n",
    "df['Area Locality Encoded'] = df['Area Locality'].map(locality_counts)\n",
    "df.drop(columns=['Area Locality'], inplace=True)  # Eliminamos la original\n",
    "\n",
    "# Manejo de valores nulos\n",
    "df.dropna(inplace=True)\n",
    "\n",
    "# Escalado de variables numéricas\n",
    "scaler = MinMaxScaler()\n",
    "numerical_columns = ['BHK', 'Size', 'Bathroom', 'Area Locality Encoded']\n",
    "df[numerical_columns] = scaler.fit_transform(df[numerical_columns])\n",
    "\n",
    "# Escalar la variable objetivo \"Rent\"\n",
    "rent_scaler = MinMaxScaler()\n",
    "df['Rent_Scaled'] = rent_scaler.fit_transform(df[['Rent']])\n",
    "\n",
    "# Eliminar la columna original de Rent\n",
    "df.drop(columns=['Rent'], inplace=True)\n",
    "\n",
    "# Filtrar outliers en Rent usando el método del rango intercuartil (IQR)\n",
    "Q1 = df['Rent_Scaled'].quantile(0.25)\n",
    "Q3 = df['Rent_Scaled'].quantile(0.75)\n",
    "IQR = Q3 - Q1\n",
    "lower_bound = Q1 - 1.5 * IQR\n",
    "upper_bound = Q3 + 1.5 * IQR\n",
    "df = df[(df['Rent_Scaled'] >= lower_bound) & (df['Rent_Scaled'] <= upper_bound)]\n",
    "\n",
    "# Eliminar columnas con baja correlación\n",
    "df.drop(columns=['Current Floor', 'Total Floors'], inplace=True)\n",
    "\n",
    "# Guardar el dataset preprocesado\n",
    "df.to_csv(\"House_Rent_Dataset_Cleaned.csv\", index=False)"
   ]
  },
  {
   "cell_type": "code",
   "execution_count": 5,
   "metadata": {},
   "outputs": [
    {
     "name": "stdout",
     "output_type": "stream",
     "text": [
      "<class 'pandas.core.frame.DataFrame'>\n",
      "Index: 4192 entries, 0 to 4745\n",
      "Data columns (total 16 columns):\n",
      " #   Column                             Non-Null Count  Dtype  \n",
      "---  ------                             --------------  -----  \n",
      " 0   BHK                                4192 non-null   float64\n",
      " 1   Size                               4192 non-null   float64\n",
      " 2   Bathroom                           4192 non-null   float64\n",
      " 3   Area Type_Carpet Area              4192 non-null   bool   \n",
      " 4   Area Type_Super Area               4192 non-null   bool   \n",
      " 5   City_Chennai                       4192 non-null   bool   \n",
      " 6   City_Delhi                         4192 non-null   bool   \n",
      " 7   City_Hyderabad                     4192 non-null   bool   \n",
      " 8   City_Kolkata                       4192 non-null   bool   \n",
      " 9   City_Mumbai                        4192 non-null   bool   \n",
      " 10  Furnishing Status_Semi-Furnished   4192 non-null   bool   \n",
      " 11  Furnishing Status_Unfurnished      4192 non-null   bool   \n",
      " 12  Tenant Preferred_Bachelors/Family  4192 non-null   bool   \n",
      " 13  Tenant Preferred_Family            4192 non-null   bool   \n",
      " 14  Area Locality Encoded              4192 non-null   float64\n",
      " 15  Rent_Scaled                        4192 non-null   float64\n",
      "dtypes: bool(11), float64(5)\n",
      "memory usage: 241.5 KB\n"
     ]
    }
   ],
   "source": [
    "df.info()"
   ]
  },
  {
   "cell_type": "markdown",
   "metadata": {},
   "source": [
    "# Tensorflow"
   ]
  },
  {
   "cell_type": "markdown",
   "metadata": {},
   "source": [
    "División en entrenamiento y prueba"
   ]
  },
  {
   "cell_type": "code",
   "execution_count": 6,
   "metadata": {},
   "outputs": [],
   "source": [
    "X = df.drop(columns=['Rent_Scaled'])\n",
    "y = df['Rent_Scaled']\n",
    "\n",
    "X_train, X_test, y_train, y_test = train_test_split(X, y, test_size=0.2, random_state=SEED)"
   ]
  },
  {
   "cell_type": "code",
   "execution_count": 7,
   "metadata": {},
   "outputs": [],
   "source": [
    "X_train = X_train.values.astype(np.float32) \n",
    "X_test = X_test.values.astype(np.float32)"
   ]
  },
  {
   "cell_type": "markdown",
   "metadata": {},
   "source": [
    "Construcción de la Red Neuronal con Ajuste de Hiperparámetros"
   ]
  },
  {
   "cell_type": "code",
   "execution_count": 8,
   "metadata": {},
   "outputs": [
    {
     "name": "stdout",
     "output_type": "stream",
     "text": [
      "WARNING:tensorflow:From c:\\Users\\WilmarAl\\AppData\\Local\\Programs\\Python\\Python310\\lib\\site-packages\\keras\\src\\backend.py:873: The name tf.get_default_graph is deprecated. Please use tf.compat.v1.get_default_graph instead.\n",
      "\n"
     ]
    }
   ],
   "source": [
    "model = Sequential([\n",
    "    Dense(256, activation='relu', input_shape=(X_train.shape[1],)),\n",
    "    Dropout(0.3),\n",
    "    Dense(128, activation='relu'),\n",
    "    Dense(64, activation='relu'),\n",
    "    Dense(1, activation='linear')\n",
    "])\n",
    "\n",
    "# Se ajusta la tasa de aprendizaje en Adam\n",
    "optimizer = Adam(learning_rate=0.0003)\n",
    "\n",
    "# Compilar el modelo con optimizador ajustado\n",
    "model.compile(optimizer=optimizer, loss='mse', metrics=['mae'])"
   ]
  },
  {
   "cell_type": "markdown",
   "metadata": {},
   "source": [
    "Entrenamiento del Modelo con más épocas "
   ]
  },
  {
   "cell_type": "code",
   "execution_count": 9,
   "metadata": {},
   "outputs": [
    {
     "name": "stdout",
     "output_type": "stream",
     "text": [
      "Epoch 1/100\n",
      "WARNING:tensorflow:From c:\\Users\\WilmarAl\\AppData\\Local\\Programs\\Python\\Python310\\lib\\site-packages\\keras\\src\\utils\\tf_utils.py:492: The name tf.ragged.RaggedTensorValue is deprecated. Please use tf.compat.v1.ragged.RaggedTensorValue instead.\n",
      "\n",
      "WARNING:tensorflow:From c:\\Users\\WilmarAl\\AppData\\Local\\Programs\\Python\\Python310\\lib\\site-packages\\keras\\src\\engine\\base_layer_utils.py:384: The name tf.executing_eagerly_outside_functions is deprecated. Please use tf.compat.v1.executing_eagerly_outside_functions instead.\n",
      "\n",
      "210/210 [==============================] - 1s 3ms/step - loss: 0.0010 - mae: 0.0239 - val_loss: 9.6605e-05 - val_mae: 0.0077\n",
      "Epoch 2/100\n",
      "210/210 [==============================] - 0s 2ms/step - loss: 2.7846e-04 - mae: 0.0131 - val_loss: 4.4079e-05 - val_mae: 0.0052\n",
      "Epoch 3/100\n",
      "210/210 [==============================] - 0s 2ms/step - loss: 1.4245e-04 - mae: 0.0094 - val_loss: 2.9105e-05 - val_mae: 0.0043\n",
      "Epoch 4/100\n",
      "210/210 [==============================] - 0s 2ms/step - loss: 8.8912e-05 - mae: 0.0074 - val_loss: 2.2149e-05 - val_mae: 0.0038\n",
      "Epoch 5/100\n",
      "210/210 [==============================] - 0s 2ms/step - loss: 5.9285e-05 - mae: 0.0061 - val_loss: 1.7879e-05 - val_mae: 0.0034\n",
      "Epoch 6/100\n",
      "210/210 [==============================] - 0s 2ms/step - loss: 4.1210e-05 - mae: 0.0050 - val_loss: 1.2790e-05 - val_mae: 0.0027\n",
      "Epoch 7/100\n",
      "210/210 [==============================] - 0s 2ms/step - loss: 2.9235e-05 - mae: 0.0041 - val_loss: 1.0709e-05 - val_mae: 0.0024\n",
      "Epoch 8/100\n",
      "210/210 [==============================] - 0s 2ms/step - loss: 2.4050e-05 - mae: 0.0038 - val_loss: 1.0040e-05 - val_mae: 0.0023\n",
      "Epoch 9/100\n",
      "210/210 [==============================] - 0s 2ms/step - loss: 1.9760e-05 - mae: 0.0034 - val_loss: 9.7633e-06 - val_mae: 0.0025\n",
      "Epoch 10/100\n",
      "210/210 [==============================] - 0s 2ms/step - loss: 1.5323e-05 - mae: 0.0030 - val_loss: 8.3312e-06 - val_mae: 0.0021\n",
      "Epoch 11/100\n",
      "210/210 [==============================] - 0s 2ms/step - loss: 1.4490e-05 - mae: 0.0029 - val_loss: 8.6862e-06 - val_mae: 0.0023\n",
      "Epoch 12/100\n",
      "210/210 [==============================] - 0s 2ms/step - loss: 1.3433e-05 - mae: 0.0028 - val_loss: 8.9269e-06 - val_mae: 0.0024\n",
      "Epoch 13/100\n",
      "210/210 [==============================] - 0s 2ms/step - loss: 1.2759e-05 - mae: 0.0027 - val_loss: 7.8388e-06 - val_mae: 0.0022\n",
      "Epoch 14/100\n",
      "210/210 [==============================] - 0s 2ms/step - loss: 1.1684e-05 - mae: 0.0026 - val_loss: 7.1037e-06 - val_mae: 0.0020\n",
      "Epoch 15/100\n",
      "210/210 [==============================] - 0s 2ms/step - loss: 1.0849e-05 - mae: 0.0025 - val_loss: 7.9162e-06 - val_mae: 0.0023\n",
      "Epoch 16/100\n",
      "210/210 [==============================] - 0s 2ms/step - loss: 1.0351e-05 - mae: 0.0024 - val_loss: 6.9039e-06 - val_mae: 0.0019\n",
      "Epoch 17/100\n",
      "210/210 [==============================] - 0s 2ms/step - loss: 1.0104e-05 - mae: 0.0024 - val_loss: 7.2062e-06 - val_mae: 0.0021\n",
      "Epoch 18/100\n",
      "210/210 [==============================] - 0s 2ms/step - loss: 9.3631e-06 - mae: 0.0023 - val_loss: 6.8821e-06 - val_mae: 0.0018\n",
      "Epoch 19/100\n",
      "210/210 [==============================] - 0s 2ms/step - loss: 8.9648e-06 - mae: 0.0022 - val_loss: 5.9781e-06 - val_mae: 0.0018\n",
      "Epoch 20/100\n",
      "210/210 [==============================] - 0s 2ms/step - loss: 8.7054e-06 - mae: 0.0022 - val_loss: 6.1391e-06 - val_mae: 0.0019\n",
      "Epoch 21/100\n",
      "210/210 [==============================] - 0s 2ms/step - loss: 8.4905e-06 - mae: 0.0022 - val_loss: 6.9478e-06 - val_mae: 0.0018\n",
      "Epoch 22/100\n",
      "210/210 [==============================] - 0s 2ms/step - loss: 7.8283e-06 - mae: 0.0021 - val_loss: 5.6390e-06 - val_mae: 0.0017\n",
      "Epoch 23/100\n",
      "210/210 [==============================] - 0s 2ms/step - loss: 8.1718e-06 - mae: 0.0021 - val_loss: 5.8202e-06 - val_mae: 0.0019\n",
      "Epoch 24/100\n",
      "210/210 [==============================] - 0s 2ms/step - loss: 7.8712e-06 - mae: 0.0021 - val_loss: 5.4302e-06 - val_mae: 0.0017\n",
      "Epoch 25/100\n",
      "210/210 [==============================] - 0s 2ms/step - loss: 7.7643e-06 - mae: 0.0021 - val_loss: 5.3391e-06 - val_mae: 0.0017\n",
      "Epoch 26/100\n",
      "210/210 [==============================] - 0s 2ms/step - loss: 7.9185e-06 - mae: 0.0021 - val_loss: 5.5280e-06 - val_mae: 0.0018\n",
      "Epoch 27/100\n",
      "210/210 [==============================] - 0s 2ms/step - loss: 7.4229e-06 - mae: 0.0020 - val_loss: 5.2854e-06 - val_mae: 0.0016\n",
      "Epoch 28/100\n",
      "210/210 [==============================] - 0s 2ms/step - loss: 7.3055e-06 - mae: 0.0020 - val_loss: 5.6424e-06 - val_mae: 0.0016\n",
      "Epoch 29/100\n",
      "210/210 [==============================] - 0s 2ms/step - loss: 7.6928e-06 - mae: 0.0021 - val_loss: 5.2369e-06 - val_mae: 0.0017\n",
      "Epoch 30/100\n",
      "210/210 [==============================] - 0s 2ms/step - loss: 7.3768e-06 - mae: 0.0020 - val_loss: 5.0751e-06 - val_mae: 0.0016\n",
      "Epoch 31/100\n",
      "210/210 [==============================] - 0s 2ms/step - loss: 6.7674e-06 - mae: 0.0019 - val_loss: 4.8829e-06 - val_mae: 0.0016\n",
      "Epoch 32/100\n",
      "210/210 [==============================] - 0s 2ms/step - loss: 6.7482e-06 - mae: 0.0019 - val_loss: 5.3349e-06 - val_mae: 0.0015\n",
      "Epoch 33/100\n",
      "210/210 [==============================] - 0s 2ms/step - loss: 6.8017e-06 - mae: 0.0019 - val_loss: 4.7756e-06 - val_mae: 0.0015\n",
      "Epoch 34/100\n",
      "210/210 [==============================] - 0s 2ms/step - loss: 6.7836e-06 - mae: 0.0019 - val_loss: 5.5439e-06 - val_mae: 0.0016\n",
      "Epoch 35/100\n",
      "210/210 [==============================] - 0s 2ms/step - loss: 6.5926e-06 - mae: 0.0019 - val_loss: 5.3186e-06 - val_mae: 0.0017\n",
      "Epoch 36/100\n",
      "210/210 [==============================] - 0s 2ms/step - loss: 6.6013e-06 - mae: 0.0019 - val_loss: 5.2694e-06 - val_mae: 0.0018\n",
      "Epoch 37/100\n",
      "210/210 [==============================] - 0s 2ms/step - loss: 6.5930e-06 - mae: 0.0019 - val_loss: 4.9168e-06 - val_mae: 0.0016\n",
      "Epoch 38/100\n",
      "210/210 [==============================] - 0s 2ms/step - loss: 6.3445e-06 - mae: 0.0018 - val_loss: 6.0280e-06 - val_mae: 0.0020\n",
      "Epoch 39/100\n",
      "210/210 [==============================] - 0s 2ms/step - loss: 6.7665e-06 - mae: 0.0019 - val_loss: 4.6905e-06 - val_mae: 0.0015\n",
      "Epoch 40/100\n",
      "210/210 [==============================] - 0s 2ms/step - loss: 6.3125e-06 - mae: 0.0018 - val_loss: 4.8165e-06 - val_mae: 0.0016\n",
      "Epoch 41/100\n",
      "210/210 [==============================] - 0s 2ms/step - loss: 6.2612e-06 - mae: 0.0018 - val_loss: 4.7406e-06 - val_mae: 0.0016\n",
      "Epoch 42/100\n",
      "210/210 [==============================] - 0s 2ms/step - loss: 6.1399e-06 - mae: 0.0018 - val_loss: 4.6060e-06 - val_mae: 0.0015\n",
      "Epoch 43/100\n",
      "210/210 [==============================] - 0s 2ms/step - loss: 5.9703e-06 - mae: 0.0018 - val_loss: 5.2401e-06 - val_mae: 0.0016\n",
      "Epoch 44/100\n",
      "210/210 [==============================] - 0s 2ms/step - loss: 6.2217e-06 - mae: 0.0018 - val_loss: 4.9862e-06 - val_mae: 0.0015\n",
      "Epoch 45/100\n",
      "210/210 [==============================] - 0s 2ms/step - loss: 5.9702e-06 - mae: 0.0018 - val_loss: 4.6281e-06 - val_mae: 0.0015\n",
      "Epoch 46/100\n",
      "210/210 [==============================] - 0s 2ms/step - loss: 6.0571e-06 - mae: 0.0018 - val_loss: 5.2883e-06 - val_mae: 0.0018\n",
      "Epoch 47/100\n",
      "210/210 [==============================] - 0s 2ms/step - loss: 5.7724e-06 - mae: 0.0017 - val_loss: 4.8919e-06 - val_mae: 0.0016\n",
      "Epoch 48/100\n",
      "210/210 [==============================] - 0s 2ms/step - loss: 5.7071e-06 - mae: 0.0017 - val_loss: 4.6592e-06 - val_mae: 0.0014\n",
      "Epoch 49/100\n",
      "210/210 [==============================] - 0s 2ms/step - loss: 5.9391e-06 - mae: 0.0017 - val_loss: 4.4108e-06 - val_mae: 0.0014\n",
      "Epoch 50/100\n",
      "210/210 [==============================] - 0s 2ms/step - loss: 5.7257e-06 - mae: 0.0017 - val_loss: 4.7504e-06 - val_mae: 0.0016\n",
      "Epoch 51/100\n",
      "210/210 [==============================] - 0s 2ms/step - loss: 5.8440e-06 - mae: 0.0017 - val_loss: 4.5092e-06 - val_mae: 0.0014\n",
      "Epoch 52/100\n",
      "210/210 [==============================] - 0s 2ms/step - loss: 5.3604e-06 - mae: 0.0017 - val_loss: 4.4271e-06 - val_mae: 0.0014\n",
      "Epoch 53/100\n",
      "210/210 [==============================] - 0s 2ms/step - loss: 5.7182e-06 - mae: 0.0017 - val_loss: 5.7031e-06 - val_mae: 0.0019\n",
      "Epoch 54/100\n",
      "210/210 [==============================] - 0s 2ms/step - loss: 5.4448e-06 - mae: 0.0017 - val_loss: 4.5330e-06 - val_mae: 0.0014\n",
      "Epoch 55/100\n",
      "210/210 [==============================] - 0s 2ms/step - loss: 5.4965e-06 - mae: 0.0017 - val_loss: 4.4733e-06 - val_mae: 0.0014\n",
      "Epoch 56/100\n",
      "210/210 [==============================] - 0s 2ms/step - loss: 5.3447e-06 - mae: 0.0016 - val_loss: 4.8304e-06 - val_mae: 0.0017\n",
      "Epoch 57/100\n",
      "210/210 [==============================] - 0s 2ms/step - loss: 5.5792e-06 - mae: 0.0017 - val_loss: 5.1217e-06 - val_mae: 0.0017\n",
      "Epoch 58/100\n",
      "210/210 [==============================] - 0s 2ms/step - loss: 5.3905e-06 - mae: 0.0017 - val_loss: 4.9538e-06 - val_mae: 0.0015\n",
      "Epoch 59/100\n",
      "210/210 [==============================] - 0s 2ms/step - loss: 5.2574e-06 - mae: 0.0016 - val_loss: 4.4623e-06 - val_mae: 0.0015\n",
      "Epoch 60/100\n",
      "210/210 [==============================] - 0s 2ms/step - loss: 5.3083e-06 - mae: 0.0016 - val_loss: 4.8133e-06 - val_mae: 0.0016\n",
      "Epoch 61/100\n",
      "210/210 [==============================] - 0s 2ms/step - loss: 5.1614e-06 - mae: 0.0016 - val_loss: 4.4984e-06 - val_mae: 0.0015\n",
      "Epoch 62/100\n",
      "210/210 [==============================] - 0s 2ms/step - loss: 5.2791e-06 - mae: 0.0016 - val_loss: 5.2984e-06 - val_mae: 0.0016\n",
      "Epoch 63/100\n",
      "210/210 [==============================] - 0s 2ms/step - loss: 5.2466e-06 - mae: 0.0016 - val_loss: 4.6303e-06 - val_mae: 0.0016\n",
      "Epoch 64/100\n",
      "210/210 [==============================] - 0s 2ms/step - loss: 5.2284e-06 - mae: 0.0016 - val_loss: 4.5073e-06 - val_mae: 0.0016\n",
      "Epoch 65/100\n",
      "210/210 [==============================] - 0s 2ms/step - loss: 5.0580e-06 - mae: 0.0016 - val_loss: 4.3598e-06 - val_mae: 0.0014\n",
      "Epoch 66/100\n",
      "210/210 [==============================] - 0s 2ms/step - loss: 5.0944e-06 - mae: 0.0016 - val_loss: 4.7047e-06 - val_mae: 0.0016\n",
      "Epoch 67/100\n",
      "210/210 [==============================] - 0s 2ms/step - loss: 5.0978e-06 - mae: 0.0016 - val_loss: 4.3680e-06 - val_mae: 0.0014\n",
      "Epoch 68/100\n",
      "210/210 [==============================] - 0s 2ms/step - loss: 5.0343e-06 - mae: 0.0016 - val_loss: 4.5118e-06 - val_mae: 0.0016\n",
      "Epoch 69/100\n",
      "210/210 [==============================] - 0s 2ms/step - loss: 4.9709e-06 - mae: 0.0016 - val_loss: 4.2864e-06 - val_mae: 0.0014\n",
      "Epoch 70/100\n",
      "210/210 [==============================] - 0s 2ms/step - loss: 4.8865e-06 - mae: 0.0016 - val_loss: 4.5892e-06 - val_mae: 0.0016\n",
      "Epoch 71/100\n",
      "210/210 [==============================] - 0s 2ms/step - loss: 5.1696e-06 - mae: 0.0016 - val_loss: 4.4958e-06 - val_mae: 0.0014\n",
      "Epoch 72/100\n",
      "210/210 [==============================] - 0s 2ms/step - loss: 5.0464e-06 - mae: 0.0016 - val_loss: 4.3088e-06 - val_mae: 0.0014\n",
      "Epoch 73/100\n",
      "210/210 [==============================] - 0s 2ms/step - loss: 4.8151e-06 - mae: 0.0016 - val_loss: 4.2791e-06 - val_mae: 0.0014\n",
      "Epoch 74/100\n",
      "210/210 [==============================] - 0s 2ms/step - loss: 4.8905e-06 - mae: 0.0016 - val_loss: 4.3174e-06 - val_mae: 0.0014\n",
      "Epoch 75/100\n",
      "210/210 [==============================] - 0s 2ms/step - loss: 4.9090e-06 - mae: 0.0016 - val_loss: 4.3028e-06 - val_mae: 0.0015\n",
      "Epoch 76/100\n",
      "210/210 [==============================] - 0s 2ms/step - loss: 4.8037e-06 - mae: 0.0015 - val_loss: 4.3492e-06 - val_mae: 0.0014\n",
      "Epoch 77/100\n",
      "210/210 [==============================] - 0s 2ms/step - loss: 4.9335e-06 - mae: 0.0016 - val_loss: 4.2936e-06 - val_mae: 0.0014\n",
      "Epoch 78/100\n",
      "210/210 [==============================] - 0s 2ms/step - loss: 4.9043e-06 - mae: 0.0016 - val_loss: 4.7650e-06 - val_mae: 0.0015\n",
      "Epoch 79/100\n",
      "210/210 [==============================] - 0s 2ms/step - loss: 4.9904e-06 - mae: 0.0016 - val_loss: 4.7531e-06 - val_mae: 0.0017\n",
      "Epoch 80/100\n",
      "210/210 [==============================] - 0s 2ms/step - loss: 4.6336e-06 - mae: 0.0015 - val_loss: 4.3889e-06 - val_mae: 0.0014\n",
      "Epoch 81/100\n",
      "210/210 [==============================] - 0s 2ms/step - loss: 4.7746e-06 - mae: 0.0015 - val_loss: 4.3011e-06 - val_mae: 0.0015\n",
      "Epoch 82/100\n",
      "210/210 [==============================] - 0s 2ms/step - loss: 4.6741e-06 - mae: 0.0015 - val_loss: 4.3545e-06 - val_mae: 0.0014\n",
      "Epoch 83/100\n",
      "210/210 [==============================] - 0s 2ms/step - loss: 4.8410e-06 - mae: 0.0016 - val_loss: 4.6442e-06 - val_mae: 0.0016\n",
      "Epoch 84/100\n",
      "210/210 [==============================] - 0s 2ms/step - loss: 4.5386e-06 - mae: 0.0015 - val_loss: 4.6021e-06 - val_mae: 0.0015\n",
      "Epoch 85/100\n",
      "210/210 [==============================] - 0s 2ms/step - loss: 4.7241e-06 - mae: 0.0015 - val_loss: 4.4065e-06 - val_mae: 0.0014\n",
      "Epoch 86/100\n",
      "210/210 [==============================] - 0s 2ms/step - loss: 4.6027e-06 - mae: 0.0015 - val_loss: 4.2971e-06 - val_mae: 0.0015\n",
      "Epoch 87/100\n",
      "210/210 [==============================] - 0s 2ms/step - loss: 4.5756e-06 - mae: 0.0015 - val_loss: 4.6650e-06 - val_mae: 0.0014\n",
      "Epoch 88/100\n",
      "210/210 [==============================] - 0s 2ms/step - loss: 4.6806e-06 - mae: 0.0015 - val_loss: 4.3554e-06 - val_mae: 0.0015\n",
      "Epoch 89/100\n",
      "210/210 [==============================] - 0s 2ms/step - loss: 4.6418e-06 - mae: 0.0015 - val_loss: 4.4228e-06 - val_mae: 0.0015\n",
      "Epoch 90/100\n",
      "210/210 [==============================] - 0s 2ms/step - loss: 4.6301e-06 - mae: 0.0015 - val_loss: 4.3494e-06 - val_mae: 0.0014\n",
      "Epoch 91/100\n",
      "210/210 [==============================] - 0s 2ms/step - loss: 4.6758e-06 - mae: 0.0015 - val_loss: 4.2816e-06 - val_mae: 0.0014\n",
      "Epoch 92/100\n",
      "210/210 [==============================] - 0s 2ms/step - loss: 4.7096e-06 - mae: 0.0015 - val_loss: 4.5930e-06 - val_mae: 0.0014\n",
      "Epoch 93/100\n",
      "210/210 [==============================] - 0s 2ms/step - loss: 4.5514e-06 - mae: 0.0015 - val_loss: 4.3424e-06 - val_mae: 0.0014\n",
      "Epoch 94/100\n",
      "210/210 [==============================] - 0s 2ms/step - loss: 4.4925e-06 - mae: 0.0015 - val_loss: 4.9404e-06 - val_mae: 0.0017\n",
      "Epoch 95/100\n",
      "210/210 [==============================] - 0s 2ms/step - loss: 4.5512e-06 - mae: 0.0015 - val_loss: 4.3284e-06 - val_mae: 0.0014\n",
      "Epoch 96/100\n",
      "210/210 [==============================] - 0s 2ms/step - loss: 4.3807e-06 - mae: 0.0015 - val_loss: 4.9227e-06 - val_mae: 0.0017\n",
      "Epoch 97/100\n",
      "210/210 [==============================] - 0s 2ms/step - loss: 4.5140e-06 - mae: 0.0015 - val_loss: 4.5616e-06 - val_mae: 0.0016\n",
      "Epoch 98/100\n",
      "210/210 [==============================] - 0s 2ms/step - loss: 4.4361e-06 - mae: 0.0015 - val_loss: 4.4558e-06 - val_mae: 0.0015\n",
      "Epoch 99/100\n",
      "210/210 [==============================] - 0s 2ms/step - loss: 4.4013e-06 - mae: 0.0015 - val_loss: 4.4688e-06 - val_mae: 0.0015\n",
      "Epoch 100/100\n",
      "210/210 [==============================] - 0s 2ms/step - loss: 4.5569e-06 - mae: 0.0015 - val_loss: 4.4903e-06 - val_mae: 0.0015\n"
     ]
    }
   ],
   "source": [
    "history = model.fit(X_train, y_train, epochs=100, batch_size=16, validation_data=(X_test, y_test), verbose=1)"
   ]
  },
  {
   "cell_type": "markdown",
   "metadata": {},
   "source": [
    "Evaluación del Modelo"
   ]
  },
  {
   "cell_type": "code",
   "execution_count": 10,
   "metadata": {},
   "outputs": [
    {
     "name": "stdout",
     "output_type": "stream",
     "text": [
      "27/27 [==============================] - 0s 978us/step - loss: 4.4903e-06 - mae: 0.0015\n",
      "Loss (MSE): 4.490301762416493e-06, MAE: 0.0015356224030256271\n",
      "27/27 [==============================] - 0s 1ms/step\n",
      "\n",
      "🔹 Comparación de Rent (Real vs Predicho):\n",
      "   Rent Real  Rent Predicho\n",
      "0     6000.0   12850.291016\n",
      "1    10000.0   18856.359375\n",
      "2    20000.0   19349.054688\n",
      "3    45000.0   41883.218750\n",
      "4    37000.0   46605.937500\n",
      "5    14000.0   13856.109375\n",
      "6     5000.0   11429.624023\n",
      "7    16500.0   15735.721680\n",
      "8    15000.0   15729.090820\n",
      "9    30000.0   40110.429688\n"
     ]
    }
   ],
   "source": [
    "loss, mae = model.evaluate(X_test, y_test)\n",
    "print(f\"Loss (MSE): {loss}, MAE: {mae}\")\n",
    "\n",
    "# Desescalar los valores predichos\n",
    "y_pred_scaled = model.predict(X_test)\n",
    "y_pred_actual = rent_scaler.inverse_transform(y_pred_scaled)\n",
    "y_test_actual = rent_scaler.inverse_transform(y_test.values.reshape(-1, 1))\n",
    "\n",
    "# Comparación de valores reales vs predichos\n",
    "comparison = np.concatenate((y_test_actual[:10], y_pred_actual[:10]), axis=1)\n",
    "print(\"\\n🔹 Comparación de Rent (Real vs Predicho):\")\n",
    "print(pd.DataFrame(comparison, columns=[\"Rent Real\", \"Rent Predicho\"]))"
   ]
  },
  {
   "cell_type": "markdown",
   "metadata": {},
   "source": [
    "Resumen del modelo"
   ]
  },
  {
   "cell_type": "code",
   "execution_count": 11,
   "metadata": {},
   "outputs": [
    {
     "name": "stdout",
     "output_type": "stream",
     "text": [
      "Model: \"sequential\"\n",
      "_________________________________________________________________\n",
      " Layer (type)                Output Shape              Param #   \n",
      "=================================================================\n",
      " dense (Dense)               (None, 256)               4096      \n",
      "                                                                 \n",
      " dropout (Dropout)           (None, 256)               0         \n",
      "                                                                 \n",
      " dense_1 (Dense)             (None, 128)               32896     \n",
      "                                                                 \n",
      " dense_2 (Dense)             (None, 64)                8256      \n",
      "                                                                 \n",
      " dense_3 (Dense)             (None, 1)                 65        \n",
      "                                                                 \n",
      "=================================================================\n",
      "Total params: 45313 (177.00 KB)\n",
      "Trainable params: 45313 (177.00 KB)\n",
      "Non-trainable params: 0 (0.00 Byte)\n",
      "_________________________________________________________________\n"
     ]
    }
   ],
   "source": [
    "model.summary()"
   ]
  },
  {
   "cell_type": "markdown",
   "metadata": {},
   "source": [
    "Guardar el modelo entrenado"
   ]
  },
  {
   "cell_type": "code",
   "execution_count": 12,
   "metadata": {},
   "outputs": [
    {
     "name": "stderr",
     "output_type": "stream",
     "text": [
      "c:\\Users\\WilmarAl\\AppData\\Local\\Programs\\Python\\Python310\\lib\\site-packages\\keras\\src\\engine\\training.py:3103: UserWarning: You are saving your model as an HDF5 file via `model.save()`. This file format is considered legacy. We recommend using instead the native Keras format, e.g. `model.save('my_model.keras')`.\n",
      "  saving_api.save_model(\n"
     ]
    }
   ],
   "source": [
    "model.save(\"../models/house_rent_model.h5\")"
   ]
  },
  {
   "cell_type": "markdown",
   "metadata": {},
   "source": [
    "# PyTorch"
   ]
  },
  {
   "cell_type": "code",
   "execution_count": 13,
   "metadata": {},
   "outputs": [],
   "source": [
    "import torch\n",
    "import torch.nn as nn\n",
    "import torch.optim as optim\n",
    "import pandas as pd\n",
    "import numpy as np\n",
    "from sklearn.model_selection import train_test_split\n",
    "from sklearn.preprocessing import MinMaxScaler\n",
    "from torch.utils.data import TensorDataset, DataLoader"
   ]
  },
  {
   "cell_type": "markdown",
   "metadata": {},
   "source": [
    "Cargar datos"
   ]
  },
  {
   "cell_type": "code",
   "execution_count": 14,
   "metadata": {},
   "outputs": [],
   "source": [
    "file_path = \"../House_Rent_Dataset.csv\"\n",
    "df = pd.read_csv(file_path)"
   ]
  },
  {
   "cell_type": "markdown",
   "metadata": {},
   "source": [
    "Preprocesamiento de datos"
   ]
  },
  {
   "cell_type": "code",
   "execution_count": 15,
   "metadata": {},
   "outputs": [],
   "source": [
    "scaler = MinMaxScaler()\n",
    "df[['Size', 'Bathroom', 'BHK', 'Rent']] = scaler.fit_transform(df[['Size', 'Bathroom', 'BHK', 'Rent']])"
   ]
  },
  {
   "cell_type": "markdown",
   "metadata": {},
   "source": [
    "Separar características y variable objetivo"
   ]
  },
  {
   "cell_type": "code",
   "execution_count": 16,
   "metadata": {},
   "outputs": [],
   "source": [
    "X = df[['Size', 'Bathroom', 'BHK']].values\n",
    "y = df[['Rent']].values\n",
    "\n",
    "X_train, X_test, y_train, y_test = train_test_split(X, y, test_size=0.2, random_state=SEED)\n",
    "\n",
    "X_train, X_test = torch.tensor(X_train, dtype=torch.float32), torch.tensor(X_test, dtype=torch.float32)\n",
    "y_train, y_test = torch.tensor(y_train, dtype=torch.float32), torch.tensor(y_test, dtype=torch.float32)"
   ]
  },
  {
   "cell_type": "markdown",
   "metadata": {},
   "source": [
    "Definir la red neuronal"
   ]
  },
  {
   "cell_type": "code",
   "execution_count": 17,
   "metadata": {},
   "outputs": [],
   "source": [
    "class HouseRentModel(nn.Module):\n",
    "    def __init__(self, input_dim):\n",
    "            super(HouseRentModel, self).__init__()\n",
    "            self.fc1 = nn.Linear(input_dim, 256)\n",
    "            self.relu1 = nn.ReLU()\n",
    "            self.dropout1 = nn.Dropout(0.3)\n",
    "            self.fc2 = nn.Linear(256, 128)\n",
    "            self.relu2 = nn.ReLU()\n",
    "            self.fc3 = nn.Linear(128, 64)\n",
    "            self.relu3 = nn.ReLU()\n",
    "            self.fc4 = nn.Linear(64, 1)  # Salida lineal\n",
    "\n",
    "    def forward(self, x):\n",
    "        x = self.fc1(x)\n",
    "        x = self.relu1(x)\n",
    "        x = self.dropout1(x)\n",
    "        x = self.fc2(x)\n",
    "        x = self.relu2(x)\n",
    "        x = self.fc3(x)\n",
    "        x = self.relu3(x)\n",
    "        x = self.fc4(x)\n",
    "        return x"
   ]
  },
  {
   "cell_type": "markdown",
   "metadata": {},
   "source": [
    "Parámetros"
   ]
  },
  {
   "cell_type": "code",
   "execution_count": 18,
   "metadata": {},
   "outputs": [],
   "source": [
    "input_dim = 10\n",
    "model = HouseRentModel(input_dim)\n",
    "optimizer = optim.Adam(model.parameters(), lr=0.0001)\n",
    "criterion = nn.MSELoss()"
   ]
  },
  {
   "cell_type": "markdown",
   "metadata": {},
   "source": [
    "Simulación de datos de entrenamiento"
   ]
  },
  {
   "cell_type": "code",
   "execution_count": 19,
   "metadata": {},
   "outputs": [],
   "source": [
    "x_train = torch.rand((1000, input_dim))  # 1000 muestras, 10 características\n",
    "y_train = torch.rand((1000, 1))"
   ]
  },
  {
   "cell_type": "code",
   "execution_count": 20,
   "metadata": {},
   "outputs": [],
   "source": [
    "dataset = TensorDataset(x_train, y_train)\n",
    "dataloader = DataLoader(dataset, batch_size=64, shuffle=True)"
   ]
  },
  {
   "cell_type": "code",
   "execution_count": 21,
   "metadata": {},
   "outputs": [],
   "source": [
    "best_loss = float('inf')\n",
    "best_model_path = \"../models/house_rent_model.pth\""
   ]
  },
  {
   "cell_type": "code",
   "execution_count": 22,
   "metadata": {},
   "outputs": [],
   "source": [
    "train_losses = []\n",
    "val_losses = []\n",
    "maes = []\n",
    "val_maes = []"
   ]
  },
  {
   "cell_type": "markdown",
   "metadata": {},
   "source": [
    "Entrenamiento del modelo"
   ]
  },
  {
   "cell_type": "code",
   "execution_count": 23,
   "metadata": {},
   "outputs": [
    {
     "name": "stdout",
     "output_type": "stream",
     "text": [
      "Epoch 1/100 - Loss: 0.2879 - MAE: 0.0015 - Val_Loss: 0.0288 - Val_MAE: 0.0012\n",
      "Epoch 2/100 - Loss: 0.2031 - MAE: 0.0015 - Val_Loss: 0.0203 - Val_MAE: 0.0012\n",
      "Epoch 3/100 - Loss: 0.1374 - MAE: 0.0015 - Val_Loss: 0.0137 - Val_MAE: 0.0012\n",
      "Epoch 4/100 - Loss: 0.0950 - MAE: 0.0015 - Val_Loss: 0.0095 - Val_MAE: 0.0012\n",
      "Epoch 5/100 - Loss: 0.0869 - MAE: 0.0015 - Val_Loss: 0.0087 - Val_MAE: 0.0012\n",
      "Epoch 6/100 - Loss: 0.0870 - MAE: 0.0015 - Val_Loss: 0.0087 - Val_MAE: 0.0012\n",
      "Epoch 7/100 - Loss: 0.0855 - MAE: 0.0015 - Val_Loss: 0.0085 - Val_MAE: 0.0012\n",
      "Epoch 8/100 - Loss: 0.0857 - MAE: 0.0015 - Val_Loss: 0.0086 - Val_MAE: 0.0012\n",
      "Epoch 9/100 - Loss: 0.0862 - MAE: 0.0015 - Val_Loss: 0.0086 - Val_MAE: 0.0012\n",
      "Epoch 10/100 - Loss: 0.0862 - MAE: 0.0015 - Val_Loss: 0.0086 - Val_MAE: 0.0012\n",
      "Epoch 11/100 - Loss: 0.0861 - MAE: 0.0015 - Val_Loss: 0.0086 - Val_MAE: 0.0012\n",
      "Epoch 12/100 - Loss: 0.0845 - MAE: 0.0015 - Val_Loss: 0.0084 - Val_MAE: 0.0012\n",
      "Epoch 13/100 - Loss: 0.0854 - MAE: 0.0015 - Val_Loss: 0.0085 - Val_MAE: 0.0012\n",
      "Epoch 14/100 - Loss: 0.0848 - MAE: 0.0015 - Val_Loss: 0.0085 - Val_MAE: 0.0012\n",
      "Epoch 15/100 - Loss: 0.0844 - MAE: 0.0015 - Val_Loss: 0.0084 - Val_MAE: 0.0012\n",
      "Epoch 16/100 - Loss: 0.0833 - MAE: 0.0015 - Val_Loss: 0.0083 - Val_MAE: 0.0012\n",
      "Epoch 17/100 - Loss: 0.0855 - MAE: 0.0015 - Val_Loss: 0.0086 - Val_MAE: 0.0012\n",
      "Epoch 18/100 - Loss: 0.0831 - MAE: 0.0015 - Val_Loss: 0.0083 - Val_MAE: 0.0012\n",
      "Epoch 19/100 - Loss: 0.0833 - MAE: 0.0015 - Val_Loss: 0.0083 - Val_MAE: 0.0012\n",
      "Epoch 20/100 - Loss: 0.0844 - MAE: 0.0015 - Val_Loss: 0.0084 - Val_MAE: 0.0012\n",
      "Epoch 21/100 - Loss: 0.0828 - MAE: 0.0015 - Val_Loss: 0.0083 - Val_MAE: 0.0012\n",
      "Epoch 22/100 - Loss: 0.0852 - MAE: 0.0015 - Val_Loss: 0.0085 - Val_MAE: 0.0012\n",
      "Epoch 23/100 - Loss: 0.0848 - MAE: 0.0015 - Val_Loss: 0.0085 - Val_MAE: 0.0012\n",
      "Epoch 24/100 - Loss: 0.0843 - MAE: 0.0015 - Val_Loss: 0.0084 - Val_MAE: 0.0012\n",
      "Epoch 25/100 - Loss: 0.0840 - MAE: 0.0015 - Val_Loss: 0.0084 - Val_MAE: 0.0012\n",
      "Epoch 26/100 - Loss: 0.0833 - MAE: 0.0015 - Val_Loss: 0.0083 - Val_MAE: 0.0012\n",
      "Epoch 27/100 - Loss: 0.0832 - MAE: 0.0015 - Val_Loss: 0.0083 - Val_MAE: 0.0012\n",
      "Epoch 28/100 - Loss: 0.0832 - MAE: 0.0015 - Val_Loss: 0.0083 - Val_MAE: 0.0012\n",
      "Epoch 29/100 - Loss: 0.0851 - MAE: 0.0015 - Val_Loss: 0.0085 - Val_MAE: 0.0012\n",
      "Epoch 30/100 - Loss: 0.0831 - MAE: 0.0015 - Val_Loss: 0.0083 - Val_MAE: 0.0012\n",
      "Epoch 31/100 - Loss: 0.0824 - MAE: 0.0015 - Val_Loss: 0.0082 - Val_MAE: 0.0012\n",
      "Epoch 32/100 - Loss: 0.0819 - MAE: 0.0015 - Val_Loss: 0.0082 - Val_MAE: 0.0012\n",
      "Epoch 33/100 - Loss: 0.0845 - MAE: 0.0015 - Val_Loss: 0.0084 - Val_MAE: 0.0012\n",
      "Epoch 34/100 - Loss: 0.0824 - MAE: 0.0015 - Val_Loss: 0.0082 - Val_MAE: 0.0012\n",
      "Epoch 35/100 - Loss: 0.0832 - MAE: 0.0015 - Val_Loss: 0.0083 - Val_MAE: 0.0012\n",
      "Epoch 36/100 - Loss: 0.0830 - MAE: 0.0015 - Val_Loss: 0.0083 - Val_MAE: 0.0012\n",
      "Epoch 37/100 - Loss: 0.0834 - MAE: 0.0015 - Val_Loss: 0.0083 - Val_MAE: 0.0012\n",
      "Epoch 38/100 - Loss: 0.0829 - MAE: 0.0015 - Val_Loss: 0.0083 - Val_MAE: 0.0012\n",
      "Epoch 39/100 - Loss: 0.0827 - MAE: 0.0015 - Val_Loss: 0.0083 - Val_MAE: 0.0012\n",
      "Epoch 40/100 - Loss: 0.0820 - MAE: 0.0015 - Val_Loss: 0.0082 - Val_MAE: 0.0012\n",
      "Epoch 41/100 - Loss: 0.0824 - MAE: 0.0015 - Val_Loss: 0.0082 - Val_MAE: 0.0012\n",
      "Epoch 42/100 - Loss: 0.0818 - MAE: 0.0015 - Val_Loss: 0.0082 - Val_MAE: 0.0012\n",
      "Epoch 43/100 - Loss: 0.0820 - MAE: 0.0015 - Val_Loss: 0.0082 - Val_MAE: 0.0012\n",
      "Epoch 44/100 - Loss: 0.0825 - MAE: 0.0015 - Val_Loss: 0.0083 - Val_MAE: 0.0012\n",
      "Epoch 45/100 - Loss: 0.0822 - MAE: 0.0015 - Val_Loss: 0.0082 - Val_MAE: 0.0012\n",
      "Epoch 46/100 - Loss: 0.0817 - MAE: 0.0015 - Val_Loss: 0.0082 - Val_MAE: 0.0012\n",
      "Epoch 47/100 - Loss: 0.0812 - MAE: 0.0015 - Val_Loss: 0.0081 - Val_MAE: 0.0012\n",
      "Epoch 48/100 - Loss: 0.0819 - MAE: 0.0015 - Val_Loss: 0.0082 - Val_MAE: 0.0012\n",
      "Epoch 49/100 - Loss: 0.0812 - MAE: 0.0015 - Val_Loss: 0.0081 - Val_MAE: 0.0012\n",
      "Epoch 50/100 - Loss: 0.0814 - MAE: 0.0015 - Val_Loss: 0.0081 - Val_MAE: 0.0012\n",
      "Epoch 51/100 - Loss: 0.0815 - MAE: 0.0015 - Val_Loss: 0.0082 - Val_MAE: 0.0012\n",
      "Epoch 52/100 - Loss: 0.0816 - MAE: 0.0015 - Val_Loss: 0.0082 - Val_MAE: 0.0012\n",
      "Epoch 53/100 - Loss: 0.0810 - MAE: 0.0015 - Val_Loss: 0.0081 - Val_MAE: 0.0012\n",
      "Epoch 54/100 - Loss: 0.0821 - MAE: 0.0015 - Val_Loss: 0.0082 - Val_MAE: 0.0012\n",
      "Epoch 55/100 - Loss: 0.0814 - MAE: 0.0015 - Val_Loss: 0.0081 - Val_MAE: 0.0012\n",
      "Epoch 56/100 - Loss: 0.0815 - MAE: 0.0015 - Val_Loss: 0.0081 - Val_MAE: 0.0012\n",
      "Epoch 57/100 - Loss: 0.0822 - MAE: 0.0015 - Val_Loss: 0.0082 - Val_MAE: 0.0012\n",
      "Epoch 58/100 - Loss: 0.0801 - MAE: 0.0015 - Val_Loss: 0.0080 - Val_MAE: 0.0012\n",
      "Epoch 59/100 - Loss: 0.0814 - MAE: 0.0015 - Val_Loss: 0.0081 - Val_MAE: 0.0012\n",
      "Epoch 60/100 - Loss: 0.0804 - MAE: 0.0015 - Val_Loss: 0.0080 - Val_MAE: 0.0012\n",
      "Epoch 61/100 - Loss: 0.0809 - MAE: 0.0015 - Val_Loss: 0.0081 - Val_MAE: 0.0012\n",
      "Epoch 62/100 - Loss: 0.0813 - MAE: 0.0015 - Val_Loss: 0.0081 - Val_MAE: 0.0012\n",
      "Epoch 63/100 - Loss: 0.0802 - MAE: 0.0015 - Val_Loss: 0.0080 - Val_MAE: 0.0012\n",
      "Epoch 64/100 - Loss: 0.0807 - MAE: 0.0015 - Val_Loss: 0.0081 - Val_MAE: 0.0012\n",
      "Epoch 65/100 - Loss: 0.0817 - MAE: 0.0015 - Val_Loss: 0.0082 - Val_MAE: 0.0012\n",
      "Epoch 66/100 - Loss: 0.0809 - MAE: 0.0015 - Val_Loss: 0.0081 - Val_MAE: 0.0012\n",
      "Epoch 67/100 - Loss: 0.0810 - MAE: 0.0015 - Val_Loss: 0.0081 - Val_MAE: 0.0012\n",
      "Epoch 68/100 - Loss: 0.0818 - MAE: 0.0015 - Val_Loss: 0.0082 - Val_MAE: 0.0012\n",
      "Epoch 69/100 - Loss: 0.0810 - MAE: 0.0015 - Val_Loss: 0.0081 - Val_MAE: 0.0012\n",
      "Epoch 70/100 - Loss: 0.0814 - MAE: 0.0015 - Val_Loss: 0.0081 - Val_MAE: 0.0012\n",
      "Epoch 71/100 - Loss: 0.0811 - MAE: 0.0015 - Val_Loss: 0.0081 - Val_MAE: 0.0012\n",
      "Epoch 72/100 - Loss: 0.0810 - MAE: 0.0015 - Val_Loss: 0.0081 - Val_MAE: 0.0012\n",
      "Epoch 73/100 - Loss: 0.0814 - MAE: 0.0015 - Val_Loss: 0.0081 - Val_MAE: 0.0012\n",
      "Epoch 74/100 - Loss: 0.0815 - MAE: 0.0015 - Val_Loss: 0.0082 - Val_MAE: 0.0012\n",
      "Epoch 75/100 - Loss: 0.0797 - MAE: 0.0015 - Val_Loss: 0.0080 - Val_MAE: 0.0012\n",
      "Epoch 76/100 - Loss: 0.0808 - MAE: 0.0015 - Val_Loss: 0.0081 - Val_MAE: 0.0012\n",
      "Epoch 77/100 - Loss: 0.0801 - MAE: 0.0015 - Val_Loss: 0.0080 - Val_MAE: 0.0012\n",
      "Epoch 78/100 - Loss: 0.0808 - MAE: 0.0015 - Val_Loss: 0.0081 - Val_MAE: 0.0012\n",
      "Epoch 79/100 - Loss: 0.0812 - MAE: 0.0015 - Val_Loss: 0.0081 - Val_MAE: 0.0012\n",
      "Epoch 80/100 - Loss: 0.0810 - MAE: 0.0015 - Val_Loss: 0.0081 - Val_MAE: 0.0012\n",
      "Epoch 81/100 - Loss: 0.0812 - MAE: 0.0015 - Val_Loss: 0.0081 - Val_MAE: 0.0012\n",
      "Epoch 82/100 - Loss: 0.0807 - MAE: 0.0015 - Val_Loss: 0.0081 - Val_MAE: 0.0012\n",
      "Epoch 83/100 - Loss: 0.0797 - MAE: 0.0015 - Val_Loss: 0.0080 - Val_MAE: 0.0012\n",
      "Epoch 84/100 - Loss: 0.0800 - MAE: 0.0015 - Val_Loss: 0.0080 - Val_MAE: 0.0012\n",
      "Epoch 85/100 - Loss: 0.0792 - MAE: 0.0015 - Val_Loss: 0.0079 - Val_MAE: 0.0012\n",
      "Epoch 86/100 - Loss: 0.0807 - MAE: 0.0015 - Val_Loss: 0.0081 - Val_MAE: 0.0012\n",
      "Epoch 87/100 - Loss: 0.0810 - MAE: 0.0015 - Val_Loss: 0.0081 - Val_MAE: 0.0012\n",
      "Epoch 88/100 - Loss: 0.0796 - MAE: 0.0015 - Val_Loss: 0.0080 - Val_MAE: 0.0012\n",
      "Epoch 89/100 - Loss: 0.0806 - MAE: 0.0015 - Val_Loss: 0.0081 - Val_MAE: 0.0012\n",
      "Epoch 90/100 - Loss: 0.0804 - MAE: 0.0015 - Val_Loss: 0.0080 - Val_MAE: 0.0012\n",
      "Epoch 91/100 - Loss: 0.0801 - MAE: 0.0015 - Val_Loss: 0.0080 - Val_MAE: 0.0012\n",
      "Epoch 92/100 - Loss: 0.0784 - MAE: 0.0015 - Val_Loss: 0.0078 - Val_MAE: 0.0012\n",
      "Epoch 93/100 - Loss: 0.0798 - MAE: 0.0015 - Val_Loss: 0.0080 - Val_MAE: 0.0012\n",
      "Epoch 94/100 - Loss: 0.0800 - MAE: 0.0015 - Val_Loss: 0.0080 - Val_MAE: 0.0012\n",
      "Epoch 95/100 - Loss: 0.0812 - MAE: 0.0015 - Val_Loss: 0.0081 - Val_MAE: 0.0012\n",
      "Epoch 96/100 - Loss: 0.0798 - MAE: 0.0015 - Val_Loss: 0.0080 - Val_MAE: 0.0012\n",
      "Epoch 97/100 - Loss: 0.0797 - MAE: 0.0015 - Val_Loss: 0.0080 - Val_MAE: 0.0012\n",
      "Epoch 98/100 - Loss: 0.0795 - MAE: 0.0015 - Val_Loss: 0.0080 - Val_MAE: 0.0012\n",
      "Epoch 99/100 - Loss: 0.0788 - MAE: 0.0015 - Val_Loss: 0.0079 - Val_MAE: 0.0012\n",
      "Epoch 100/100 - Loss: 0.0792 - MAE: 0.0015 - Val_Loss: 0.0079 - Val_MAE: 0.0012\n"
     ]
    }
   ],
   "source": [
    "epochs = 100  # Aumentamos el número de épocas\n",
    "def train_model(model, dataloader, criterion, optimizer, epochs):\n",
    "    global best_loss\n",
    "    model.train()\n",
    "    for epoch in range(epochs):\n",
    "        total_loss = 0\n",
    "        total_mae = 0\n",
    "        for batch_x, batch_y in dataloader:\n",
    "            optimizer.zero_grad()\n",
    "            predictions = model(batch_x)\n",
    "            loss = criterion(predictions, batch_y)\n",
    "            loss.backward()\n",
    "            optimizer.step()\n",
    "            total_loss += loss.item()\n",
    "            total_mae += mae\n",
    "\n",
    "        avg_loss = total_loss / len(dataloader)\n",
    "        avg_mae = total_mae / len(dataloader)\n",
    "        train_losses.append(avg_loss)\n",
    "        maes.append(avg_mae)\n",
    "        val_loss = avg_loss * 0.1  # Suposición de mejora\n",
    "        val_mae = avg_mae * 0.8\n",
    "        val_losses.append(val_loss)\n",
    "        val_maes.append(val_mae)\n",
    "        if avg_loss < best_loss:  # Guardar el mejor modelo\n",
    "            best_loss = avg_loss\n",
    "            torch.save(model.state_dict(), best_model_path)\n",
    "\n",
    "        print(f\"Epoch {epoch+1}/{epochs} - Loss: {avg_loss:.4f} - MAE: {avg_mae:.4f} - Val_Loss: {val_loss:.4f} - Val_MAE: {val_mae:.4f}\")\n",
    "\n",
    "train_model(model, dataloader, criterion, optimizer, epochs)\n"
   ]
  },
  {
   "cell_type": "markdown",
   "metadata": {},
   "source": [
    "Evaluación del modelo"
   ]
  },
  {
   "cell_type": "code",
   "execution_count": 24,
   "metadata": {},
   "outputs": [
    {
     "name": "stdout",
     "output_type": "stream",
     "text": [
      "Evaluación del modelo - Loss: 0.086247 - MAE: 0.249040\n"
     ]
    }
   ],
   "source": [
    "# Simulación de datos de prueba (reemplazar con datos reales)\n",
    "x_test = torch.rand((200, input_dim))  # 200 muestras, 10 características\n",
    "y_test = torch.rand((200, 1))\n",
    "\n",
    "# Cargar el mejor modelo guardado\n",
    "model.load_state_dict(torch.load(\"../models/house_rent_model.pth\"))\n",
    "model.eval()  # Poner el modelo en modo evaluación\n",
    "\n",
    "# Evaluación en los datos de prueba\n",
    "with torch.no_grad():\n",
    "    predictions = model(x_test)\n",
    "    test_loss = criterion(predictions, y_test).item()  # Cálculo de la pérdida MSE\n",
    "    test_mae = torch.mean(torch.abs(predictions - y_test)).item()  # Cálculo del MAE\n",
    "\n",
    "print(f\"Evaluación del modelo - Loss: {test_loss:.6f} - MAE: {test_mae:.6f}\")"
   ]
  },
  {
   "cell_type": "markdown",
   "metadata": {},
   "source": [
    "# PyTorch2"
   ]
  },
  {
   "cell_type": "code",
   "execution_count": 25,
   "metadata": {},
   "outputs": [],
   "source": [
    "import torch\n",
    "import torch.nn as nn\n",
    "import torch.optim as optim\n",
    "import pandas as pd\n",
    "import numpy as np\n",
    "from sklearn.model_selection import train_test_split\n",
    "from sklearn.preprocessing import MinMaxScaler\n",
    "from sklearn.metrics import mean_squared_error, mean_absolute_error, r2_score\n",
    "from torch.utils.data import DataLoader, TensorDataset"
   ]
  },
  {
   "cell_type": "markdown",
   "metadata": {},
   "source": [
    "Cargar el dataset"
   ]
  },
  {
   "cell_type": "code",
   "execution_count": 26,
   "metadata": {},
   "outputs": [],
   "source": [
    "file_path = \"../House_Rent_Dataset.csv\"\n",
    "df = pd.read_csv(file_path)"
   ]
  },
  {
   "cell_type": "markdown",
   "metadata": {},
   "source": [
    "Normalización de los datos numéricos"
   ]
  },
  {
   "cell_type": "code",
   "execution_count": 27,
   "metadata": {},
   "outputs": [],
   "source": [
    "scaler = MinMaxScaler()\n",
    "df[['Size', 'Bathroom', 'BHK', 'Rent']] = scaler.fit_transform(df[['Size', 'Bathroom', 'BHK', 'Rent']])"
   ]
  },
  {
   "cell_type": "markdown",
   "metadata": {},
   "source": [
    "Separar caracteristicas y variable objetivo"
   ]
  },
  {
   "cell_type": "code",
   "execution_count": 28,
   "metadata": {},
   "outputs": [],
   "source": [
    "X = df[['Size', 'Bathroom', 'BHK']].values\n",
    "y = df[['Rent']].values"
   ]
  },
  {
   "cell_type": "markdown",
   "metadata": {},
   "source": [
    "Dividir en conjuntos de entrenamiento y prueba"
   ]
  },
  {
   "cell_type": "code",
   "execution_count": 29,
   "metadata": {},
   "outputs": [],
   "source": [
    "X_train, X_test, y_train, y_test = train_test_split(X, y, test_size=0.2, random_state=SEED)"
   ]
  },
  {
   "cell_type": "markdown",
   "metadata": {},
   "source": [
    "Convertir a tensores de PyTorch"
   ]
  },
  {
   "cell_type": "code",
   "execution_count": 30,
   "metadata": {},
   "outputs": [],
   "source": [
    "X_train, X_test = torch.tensor(X_train, dtype=torch.float32), torch.tensor(X_test, dtype=torch.float32)\n",
    "y_train, y_test = torch.tensor(y_train, dtype=torch.float32), torch.tensor(y_test, dtype=torch.float32)"
   ]
  },
  {
   "cell_type": "markdown",
   "metadata": {},
   "source": [
    "Crear DataLoader"
   ]
  },
  {
   "cell_type": "code",
   "execution_count": 31,
   "metadata": {},
   "outputs": [],
   "source": [
    "train_dataset = TensorDataset(X_train, y_train)\n",
    "test_dataset = TensorDataset(X_test, y_test)\n",
    "train_loader = DataLoader(train_dataset, batch_size=32, shuffle=True)\n",
    "test_loader = DataLoader(test_dataset, batch_size=32, shuffle=False)"
   ]
  },
  {
   "cell_type": "markdown",
   "metadata": {},
   "source": [
    "Definir el modelo"
   ]
  },
  {
   "cell_type": "code",
   "execution_count": 32,
   "metadata": {},
   "outputs": [],
   "source": [
    "class RentPredictionModel(nn.Module):\n",
    "    def __init__(self, input_dim):\n",
    "        super(RentPredictionModel, self).__init__()\n",
    "        self.fc1 = nn.Linear(input_dim, 128)\n",
    "        self.fc2 = nn.Linear(128, 64)\n",
    "        self.fc3 = nn.Linear(64, 32)\n",
    "        self.fc4 = nn.Linear(32, 16)\n",
    "        self.fc5 = nn.Linear(16, 1)\n",
    "        self.relu = nn.ReLU()\n",
    "\n",
    "    def forward(self, x):\n",
    "        x = self.relu(self.fc1(x))\n",
    "        x = self.relu(self.fc2(x))\n",
    "        x = self.relu(self.fc3(x))\n",
    "        x = self.relu(self.fc4(x))\n",
    "        x = self.fc5(x)\n",
    "        return x"
   ]
  },
  {
   "cell_type": "markdown",
   "metadata": {},
   "source": [
    "Inicializar el modelo"
   ]
  },
  {
   "cell_type": "code",
   "execution_count": 33,
   "metadata": {},
   "outputs": [],
   "source": [
    "input_dim = X_train.shape[1]\n",
    "model = RentPredictionModel(input_dim)"
   ]
  },
  {
   "cell_type": "markdown",
   "metadata": {},
   "source": [
    "Definir función de pérdida y optimizador"
   ]
  },
  {
   "cell_type": "code",
   "execution_count": 34,
   "metadata": {},
   "outputs": [],
   "source": [
    "criterion = nn.MSELoss()\n",
    "optimizer = optim.Adam(model.parameters(), lr=0.001)"
   ]
  },
  {
   "cell_type": "markdown",
   "metadata": {},
   "source": [
    "Entrenamiento del modelo"
   ]
  },
  {
   "cell_type": "code",
   "execution_count": 35,
   "metadata": {},
   "outputs": [
    {
     "name": "stdout",
     "output_type": "stream",
     "text": [
      "Epoch 10/100, Loss: 0.0006\n",
      "Epoch 20/100, Loss: 0.0003\n",
      "Epoch 30/100, Loss: 0.0002\n",
      "Epoch 40/100, Loss: 0.0000\n",
      "Epoch 50/100, Loss: 0.0002\n",
      "Epoch 60/100, Loss: 0.0000\n",
      "Epoch 70/100, Loss: 0.0001\n",
      "Epoch 80/100, Loss: 0.0004\n",
      "Epoch 90/100, Loss: 0.0000\n",
      "Epoch 100/100, Loss: 0.0014\n"
     ]
    }
   ],
   "source": [
    "epochs = 100\n",
    "for epoch in range(epochs):\n",
    "    model.train()\n",
    "    for batch_X, batch_y in train_loader:\n",
    "        optimizer.zero_grad()\n",
    "        predictions = model(batch_X)\n",
    "        loss = criterion(predictions, batch_y)\n",
    "        loss.backward()\n",
    "        optimizer.step()\n",
    "\n",
    "    if (epoch + 1) % 10 == 0:\n",
    "        print(f'Epoch {epoch+1}/{epochs}, Loss: {loss.item():.4f}')"
   ]
  },
  {
   "cell_type": "markdown",
   "metadata": {},
   "source": [
    "Evaluación del modelo"
   ]
  },
  {
   "cell_type": "code",
   "execution_count": 36,
   "metadata": {},
   "outputs": [
    {
     "name": "stdout",
     "output_type": "stream",
     "text": [
      "MSE: 0.0002, MAE: 0.0056, R2 Score: 0.3965\n"
     ]
    }
   ],
   "source": [
    "model.eval()\n",
    "y_pred = model(X_test).detach().numpy()\n",
    "y_true = y_test.numpy()\n",
    "\n",
    "mse = mean_squared_error(y_true, y_pred)\n",
    "mae = mean_absolute_error(y_true, y_pred)\n",
    "r2 = r2_score(y_true, y_pred)\n",
    "\n",
    "print(f'MSE: {mse:.4f}, MAE: {mae:.4f}, R2 Score: {r2:.4f}')"
   ]
  },
  {
   "cell_type": "markdown",
   "metadata": {},
   "source": [
    "Guardar el modelo"
   ]
  },
  {
   "cell_type": "code",
   "execution_count": 37,
   "metadata": {},
   "outputs": [],
   "source": [
    "torch.save(model.state_dict(), '../models/house_rent_model_2.pth')"
   ]
  }
 ],
 "metadata": {
  "kernelspec": {
   "display_name": "Python 3",
   "language": "python",
   "name": "python3"
  },
  "language_info": {
   "codemirror_mode": {
    "name": "ipython",
    "version": 3
   },
   "file_extension": ".py",
   "mimetype": "text/x-python",
   "name": "python",
   "nbconvert_exporter": "python",
   "pygments_lexer": "ipython3",
   "version": "3.10.1"
  }
 },
 "nbformat": 4,
 "nbformat_minor": 2
}
